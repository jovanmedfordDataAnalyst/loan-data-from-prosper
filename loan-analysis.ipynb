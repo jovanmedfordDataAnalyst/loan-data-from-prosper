{
 "cells": [
  {
   "cell_type": "markdown",
   "metadata": {
    "collapsed": true,
    "slideshow": {
     "slide_type": "slide"
    }
   },
   "source": [
    "# <font color=#cc0012>Prosper</font>\n",
    "\n",
    "Prosper was founded in 2005 as the first peer-to-peer lending marketplace in the United States. Since then, Prosper has facilitated more than $14 billion in loans to more than 870,000 people.\n",
    "\n",
    "Borrowers apply online for a fixed-rate, fixed-term loan between \\$2000 and \\$40000. Individuals and institutions can invest in the loans and earn attractive returns. Prosper handles all loan servicing on behalf of the matched borrowers and investors."
   ]
  },
  {
   "cell_type": "code",
   "execution_count": 1,
   "metadata": {
    "collapsed": true,
    "slideshow": {
     "slide_type": "skip"
    }
   },
   "outputs": [],
   "source": [
    "import numpy as np\n",
    "import datetime\n",
    "import pandas as pd\n",
    "import matplotlib.pyplot as plt\n",
    "import seaborn as sns\n",
    "%matplotlib inline"
   ]
  },
  {
   "cell_type": "code",
   "execution_count": 2,
   "metadata": {
    "collapsed": true,
    "slideshow": {
     "slide_type": "skip"
    }
   },
   "outputs": [],
   "source": [
    "df = pd.read_csv(\"prosper-loan-data.csv\")"
   ]
  },
  {
   "cell_type": "code",
   "execution_count": 3,
   "metadata": {
    "slideshow": {
     "slide_type": "skip"
    }
   },
   "outputs": [
    {
     "name": "stdout",
     "output_type": "stream",
     "text": [
      "<class 'pandas.core.frame.DataFrame'>\n",
      "RangeIndex: 113937 entries, 0 to 113936\n",
      "Data columns (total 81 columns):\n",
      "ListingKey                             113937 non-null object\n",
      "ListingNumber                          113937 non-null int64\n",
      "ListingCreationDate                    113937 non-null object\n",
      "CreditGrade                            28953 non-null object\n",
      "Term                                   113937 non-null int64\n",
      "LoanStatus                             113937 non-null object\n",
      "ClosedDate                             55089 non-null object\n",
      "BorrowerAPR                            113912 non-null float64\n",
      "BorrowerRate                           113937 non-null float64\n",
      "LenderYield                            113937 non-null float64\n",
      "EstimatedEffectiveYield                84853 non-null float64\n",
      "EstimatedLoss                          84853 non-null float64\n",
      "EstimatedReturn                        84853 non-null float64\n",
      "ProsperRating (numeric)                84853 non-null float64\n",
      "ProsperRating (Alpha)                  84853 non-null object\n",
      "ProsperScore                           84853 non-null float64\n",
      "ListingCategory (numeric)              113937 non-null int64\n",
      "BorrowerState                          108422 non-null object\n",
      "Occupation                             110349 non-null object\n",
      "EmploymentStatus                       111682 non-null object\n",
      "EmploymentStatusDuration               106312 non-null float64\n",
      "IsBorrowerHomeowner                    113937 non-null bool\n",
      "CurrentlyInGroup                       113937 non-null bool\n",
      "GroupKey                               13341 non-null object\n",
      "DateCreditPulled                       113937 non-null object\n",
      "CreditScoreRangeLower                  113346 non-null float64\n",
      "CreditScoreRangeUpper                  113346 non-null float64\n",
      "FirstRecordedCreditLine                113240 non-null object\n",
      "CurrentCreditLines                     106333 non-null float64\n",
      "OpenCreditLines                        106333 non-null float64\n",
      "TotalCreditLinespast7years             113240 non-null float64\n",
      "OpenRevolvingAccounts                  113937 non-null int64\n",
      "OpenRevolvingMonthlyPayment            113937 non-null float64\n",
      "InquiriesLast6Months                   113240 non-null float64\n",
      "TotalInquiries                         112778 non-null float64\n",
      "CurrentDelinquencies                   113240 non-null float64\n",
      "AmountDelinquent                       106315 non-null float64\n",
      "DelinquenciesLast7Years                112947 non-null float64\n",
      "PublicRecordsLast10Years               113240 non-null float64\n",
      "PublicRecordsLast12Months              106333 non-null float64\n",
      "RevolvingCreditBalance                 106333 non-null float64\n",
      "BankcardUtilization                    106333 non-null float64\n",
      "AvailableBankcardCredit                106393 non-null float64\n",
      "TotalTrades                            106393 non-null float64\n",
      "TradesNeverDelinquent (percentage)     106393 non-null float64\n",
      "TradesOpenedLast6Months                106393 non-null float64\n",
      "DebtToIncomeRatio                      105383 non-null float64\n",
      "IncomeRange                            113937 non-null object\n",
      "IncomeVerifiable                       113937 non-null bool\n",
      "StatedMonthlyIncome                    113937 non-null float64\n",
      "LoanKey                                113937 non-null object\n",
      "TotalProsperLoans                      22085 non-null float64\n",
      "TotalProsperPaymentsBilled             22085 non-null float64\n",
      "OnTimeProsperPayments                  22085 non-null float64\n",
      "ProsperPaymentsLessThanOneMonthLate    22085 non-null float64\n",
      "ProsperPaymentsOneMonthPlusLate        22085 non-null float64\n",
      "ProsperPrincipalBorrowed               22085 non-null float64\n",
      "ProsperPrincipalOutstanding            22085 non-null float64\n",
      "ScorexChangeAtTimeOfListing            18928 non-null float64\n",
      "LoanCurrentDaysDelinquent              113937 non-null int64\n",
      "LoanFirstDefaultedCycleNumber          16952 non-null float64\n",
      "LoanMonthsSinceOrigination             113937 non-null int64\n",
      "LoanNumber                             113937 non-null int64\n",
      "LoanOriginalAmount                     113937 non-null int64\n",
      "LoanOriginationDate                    113937 non-null object\n",
      "LoanOriginationQuarter                 113937 non-null object\n",
      "MemberKey                              113937 non-null object\n",
      "MonthlyLoanPayment                     113937 non-null float64\n",
      "LP_CustomerPayments                    113937 non-null float64\n",
      "LP_CustomerPrincipalPayments           113937 non-null float64\n",
      "LP_InterestandFees                     113937 non-null float64\n",
      "LP_ServiceFees                         113937 non-null float64\n",
      "LP_CollectionFees                      113937 non-null float64\n",
      "LP_GrossPrincipalLoss                  113937 non-null float64\n",
      "LP_NetPrincipalLoss                    113937 non-null float64\n",
      "LP_NonPrincipalRecoverypayments        113937 non-null float64\n",
      "PercentFunded                          113937 non-null float64\n",
      "Recommendations                        113937 non-null int64\n",
      "InvestmentFromFriendsCount             113937 non-null int64\n",
      "InvestmentFromFriendsAmount            113937 non-null float64\n",
      "Investors                              113937 non-null int64\n",
      "dtypes: bool(3), float64(50), int64(11), object(17)\n",
      "memory usage: 60.7+ MB\n"
     ]
    }
   ],
   "source": [
    "df.info()"
   ]
  },
  {
   "cell_type": "code",
   "execution_count": 4,
   "metadata": {
    "slideshow": {
     "slide_type": "skip"
    }
   },
   "outputs": [
    {
     "data": {
      "text/html": [
       "<div>\n",
       "<style>\n",
       "    .dataframe thead tr:only-child th {\n",
       "        text-align: right;\n",
       "    }\n",
       "\n",
       "    .dataframe thead th {\n",
       "        text-align: left;\n",
       "    }\n",
       "\n",
       "    .dataframe tbody tr th {\n",
       "        vertical-align: top;\n",
       "    }\n",
       "</style>\n",
       "<table border=\"1\" class=\"dataframe\">\n",
       "  <thead>\n",
       "    <tr style=\"text-align: right;\">\n",
       "      <th></th>\n",
       "      <th>ListingKey</th>\n",
       "      <th>ListingNumber</th>\n",
       "      <th>ListingCreationDate</th>\n",
       "      <th>CreditGrade</th>\n",
       "      <th>Term</th>\n",
       "      <th>LoanStatus</th>\n",
       "      <th>ClosedDate</th>\n",
       "      <th>BorrowerAPR</th>\n",
       "      <th>BorrowerRate</th>\n",
       "      <th>LenderYield</th>\n",
       "      <th>...</th>\n",
       "      <th>LP_ServiceFees</th>\n",
       "      <th>LP_CollectionFees</th>\n",
       "      <th>LP_GrossPrincipalLoss</th>\n",
       "      <th>LP_NetPrincipalLoss</th>\n",
       "      <th>LP_NonPrincipalRecoverypayments</th>\n",
       "      <th>PercentFunded</th>\n",
       "      <th>Recommendations</th>\n",
       "      <th>InvestmentFromFriendsCount</th>\n",
       "      <th>InvestmentFromFriendsAmount</th>\n",
       "      <th>Investors</th>\n",
       "    </tr>\n",
       "  </thead>\n",
       "  <tbody>\n",
       "    <tr>\n",
       "      <th>0</th>\n",
       "      <td>1021339766868145413AB3B</td>\n",
       "      <td>193129</td>\n",
       "      <td>2007-08-26 19:09:29.263000000</td>\n",
       "      <td>C</td>\n",
       "      <td>36</td>\n",
       "      <td>Completed</td>\n",
       "      <td>2009-08-14 00:00:00</td>\n",
       "      <td>0.16516</td>\n",
       "      <td>0.1580</td>\n",
       "      <td>0.1380</td>\n",
       "      <td>...</td>\n",
       "      <td>-133.18</td>\n",
       "      <td>0.0</td>\n",
       "      <td>0.0</td>\n",
       "      <td>0.0</td>\n",
       "      <td>0.0</td>\n",
       "      <td>1.0</td>\n",
       "      <td>0</td>\n",
       "      <td>0</td>\n",
       "      <td>0.0</td>\n",
       "      <td>258</td>\n",
       "    </tr>\n",
       "    <tr>\n",
       "      <th>1</th>\n",
       "      <td>10273602499503308B223C1</td>\n",
       "      <td>1209647</td>\n",
       "      <td>2014-02-27 08:28:07.900000000</td>\n",
       "      <td>NaN</td>\n",
       "      <td>36</td>\n",
       "      <td>Current</td>\n",
       "      <td>NaN</td>\n",
       "      <td>0.12016</td>\n",
       "      <td>0.0920</td>\n",
       "      <td>0.0820</td>\n",
       "      <td>...</td>\n",
       "      <td>0.00</td>\n",
       "      <td>0.0</td>\n",
       "      <td>0.0</td>\n",
       "      <td>0.0</td>\n",
       "      <td>0.0</td>\n",
       "      <td>1.0</td>\n",
       "      <td>0</td>\n",
       "      <td>0</td>\n",
       "      <td>0.0</td>\n",
       "      <td>1</td>\n",
       "    </tr>\n",
       "    <tr>\n",
       "      <th>2</th>\n",
       "      <td>0EE9337825851032864889A</td>\n",
       "      <td>81716</td>\n",
       "      <td>2007-01-05 15:00:47.090000000</td>\n",
       "      <td>HR</td>\n",
       "      <td>36</td>\n",
       "      <td>Completed</td>\n",
       "      <td>2009-12-17 00:00:00</td>\n",
       "      <td>0.28269</td>\n",
       "      <td>0.2750</td>\n",
       "      <td>0.2400</td>\n",
       "      <td>...</td>\n",
       "      <td>-24.20</td>\n",
       "      <td>0.0</td>\n",
       "      <td>0.0</td>\n",
       "      <td>0.0</td>\n",
       "      <td>0.0</td>\n",
       "      <td>1.0</td>\n",
       "      <td>0</td>\n",
       "      <td>0</td>\n",
       "      <td>0.0</td>\n",
       "      <td>41</td>\n",
       "    </tr>\n",
       "    <tr>\n",
       "      <th>3</th>\n",
       "      <td>0EF5356002482715299901A</td>\n",
       "      <td>658116</td>\n",
       "      <td>2012-10-22 11:02:35.010000000</td>\n",
       "      <td>NaN</td>\n",
       "      <td>36</td>\n",
       "      <td>Current</td>\n",
       "      <td>NaN</td>\n",
       "      <td>0.12528</td>\n",
       "      <td>0.0974</td>\n",
       "      <td>0.0874</td>\n",
       "      <td>...</td>\n",
       "      <td>-108.01</td>\n",
       "      <td>0.0</td>\n",
       "      <td>0.0</td>\n",
       "      <td>0.0</td>\n",
       "      <td>0.0</td>\n",
       "      <td>1.0</td>\n",
       "      <td>0</td>\n",
       "      <td>0</td>\n",
       "      <td>0.0</td>\n",
       "      <td>158</td>\n",
       "    </tr>\n",
       "    <tr>\n",
       "      <th>4</th>\n",
       "      <td>0F023589499656230C5E3E2</td>\n",
       "      <td>909464</td>\n",
       "      <td>2013-09-14 18:38:39.097000000</td>\n",
       "      <td>NaN</td>\n",
       "      <td>36</td>\n",
       "      <td>Current</td>\n",
       "      <td>NaN</td>\n",
       "      <td>0.24614</td>\n",
       "      <td>0.2085</td>\n",
       "      <td>0.1985</td>\n",
       "      <td>...</td>\n",
       "      <td>-60.27</td>\n",
       "      <td>0.0</td>\n",
       "      <td>0.0</td>\n",
       "      <td>0.0</td>\n",
       "      <td>0.0</td>\n",
       "      <td>1.0</td>\n",
       "      <td>0</td>\n",
       "      <td>0</td>\n",
       "      <td>0.0</td>\n",
       "      <td>20</td>\n",
       "    </tr>\n",
       "  </tbody>\n",
       "</table>\n",
       "<p>5 rows × 81 columns</p>\n",
       "</div>"
      ],
      "text/plain": [
       "                ListingKey  ListingNumber            ListingCreationDate  \\\n",
       "0  1021339766868145413AB3B         193129  2007-08-26 19:09:29.263000000   \n",
       "1  10273602499503308B223C1        1209647  2014-02-27 08:28:07.900000000   \n",
       "2  0EE9337825851032864889A          81716  2007-01-05 15:00:47.090000000   \n",
       "3  0EF5356002482715299901A         658116  2012-10-22 11:02:35.010000000   \n",
       "4  0F023589499656230C5E3E2         909464  2013-09-14 18:38:39.097000000   \n",
       "\n",
       "  CreditGrade  Term LoanStatus           ClosedDate  BorrowerAPR  \\\n",
       "0           C    36  Completed  2009-08-14 00:00:00      0.16516   \n",
       "1         NaN    36    Current                  NaN      0.12016   \n",
       "2          HR    36  Completed  2009-12-17 00:00:00      0.28269   \n",
       "3         NaN    36    Current                  NaN      0.12528   \n",
       "4         NaN    36    Current                  NaN      0.24614   \n",
       "\n",
       "   BorrowerRate  LenderYield    ...     LP_ServiceFees  LP_CollectionFees  \\\n",
       "0        0.1580       0.1380    ...            -133.18                0.0   \n",
       "1        0.0920       0.0820    ...               0.00                0.0   \n",
       "2        0.2750       0.2400    ...             -24.20                0.0   \n",
       "3        0.0974       0.0874    ...            -108.01                0.0   \n",
       "4        0.2085       0.1985    ...             -60.27                0.0   \n",
       "\n",
       "   LP_GrossPrincipalLoss  LP_NetPrincipalLoss LP_NonPrincipalRecoverypayments  \\\n",
       "0                    0.0                  0.0                             0.0   \n",
       "1                    0.0                  0.0                             0.0   \n",
       "2                    0.0                  0.0                             0.0   \n",
       "3                    0.0                  0.0                             0.0   \n",
       "4                    0.0                  0.0                             0.0   \n",
       "\n",
       "   PercentFunded  Recommendations InvestmentFromFriendsCount  \\\n",
       "0            1.0                0                          0   \n",
       "1            1.0                0                          0   \n",
       "2            1.0                0                          0   \n",
       "3            1.0                0                          0   \n",
       "4            1.0                0                          0   \n",
       "\n",
       "  InvestmentFromFriendsAmount Investors  \n",
       "0                         0.0       258  \n",
       "1                         0.0         1  \n",
       "2                         0.0        41  \n",
       "3                         0.0       158  \n",
       "4                         0.0        20  \n",
       "\n",
       "[5 rows x 81 columns]"
      ]
     },
     "execution_count": 4,
     "metadata": {},
     "output_type": "execute_result"
    }
   ],
   "source": [
    "df.head()"
   ]
  },
  {
   "cell_type": "code",
   "execution_count": 5,
   "metadata": {
    "collapsed": true,
    "slideshow": {
     "slide_type": "skip"
    }
   },
   "outputs": [],
   "source": [
    "keys = [\"ListingKey\",\"ListingCreationDate\",\"LoanOriginationDate\",\"DateCreditPulled\",\"ProsperRating (Alpha)\",\"Term\",\"ListingCategory (numeric)\",\"LoanOriginalAmount\",\"BorrowerAPR\",\"EstimatedReturn\",\"LoanStatus\",\"StatedMonthlyIncome\",\"IsBorrowerHomeowner\",\"ProsperPrincipalBorrowed\",\"ProsperPrincipalOutstanding\"]"
   ]
  },
  {
   "cell_type": "code",
   "execution_count": 6,
   "metadata": {
    "scrolled": false,
    "slideshow": {
     "slide_type": "skip"
    }
   },
   "outputs": [
    {
     "data": {
      "text/html": [
       "<div>\n",
       "<style>\n",
       "    .dataframe thead tr:only-child th {\n",
       "        text-align: right;\n",
       "    }\n",
       "\n",
       "    .dataframe thead th {\n",
       "        text-align: left;\n",
       "    }\n",
       "\n",
       "    .dataframe tbody tr th {\n",
       "        vertical-align: top;\n",
       "    }\n",
       "</style>\n",
       "<table border=\"1\" class=\"dataframe\">\n",
       "  <thead>\n",
       "    <tr style=\"text-align: right;\">\n",
       "      <th></th>\n",
       "      <th>ListingKey</th>\n",
       "      <th>ListingCreationDate</th>\n",
       "      <th>LoanOriginationDate</th>\n",
       "      <th>DateCreditPulled</th>\n",
       "      <th>ProsperRating (Alpha)</th>\n",
       "      <th>Term</th>\n",
       "      <th>ListingCategory (numeric)</th>\n",
       "      <th>LoanOriginalAmount</th>\n",
       "      <th>BorrowerAPR</th>\n",
       "      <th>EstimatedReturn</th>\n",
       "      <th>LoanStatus</th>\n",
       "      <th>StatedMonthlyIncome</th>\n",
       "      <th>IsBorrowerHomeowner</th>\n",
       "      <th>ProsperPrincipalBorrowed</th>\n",
       "      <th>ProsperPrincipalOutstanding</th>\n",
       "    </tr>\n",
       "  </thead>\n",
       "  <tbody>\n",
       "    <tr>\n",
       "      <th>0</th>\n",
       "      <td>1021339766868145413AB3B</td>\n",
       "      <td>2007-08-26 19:09:29.263000000</td>\n",
       "      <td>2007-09-12 00:00:00</td>\n",
       "      <td>2007-08-26 18:41:46.780000000</td>\n",
       "      <td>NaN</td>\n",
       "      <td>36</td>\n",
       "      <td>0</td>\n",
       "      <td>9425</td>\n",
       "      <td>0.16516</td>\n",
       "      <td>NaN</td>\n",
       "      <td>Completed</td>\n",
       "      <td>3083.333333</td>\n",
       "      <td>True</td>\n",
       "      <td>NaN</td>\n",
       "      <td>NaN</td>\n",
       "    </tr>\n",
       "    <tr>\n",
       "      <th>1</th>\n",
       "      <td>10273602499503308B223C1</td>\n",
       "      <td>2014-02-27 08:28:07.900000000</td>\n",
       "      <td>2014-03-03 00:00:00</td>\n",
       "      <td>2014-02-27 08:28:14</td>\n",
       "      <td>A</td>\n",
       "      <td>36</td>\n",
       "      <td>2</td>\n",
       "      <td>10000</td>\n",
       "      <td>0.12016</td>\n",
       "      <td>0.05470</td>\n",
       "      <td>Current</td>\n",
       "      <td>6125.000000</td>\n",
       "      <td>False</td>\n",
       "      <td>NaN</td>\n",
       "      <td>NaN</td>\n",
       "    </tr>\n",
       "    <tr>\n",
       "      <th>2</th>\n",
       "      <td>0EE9337825851032864889A</td>\n",
       "      <td>2007-01-05 15:00:47.090000000</td>\n",
       "      <td>2007-01-17 00:00:00</td>\n",
       "      <td>2007-01-02 14:09:10.060000000</td>\n",
       "      <td>NaN</td>\n",
       "      <td>36</td>\n",
       "      <td>0</td>\n",
       "      <td>3001</td>\n",
       "      <td>0.28269</td>\n",
       "      <td>NaN</td>\n",
       "      <td>Completed</td>\n",
       "      <td>2083.333333</td>\n",
       "      <td>False</td>\n",
       "      <td>NaN</td>\n",
       "      <td>NaN</td>\n",
       "    </tr>\n",
       "    <tr>\n",
       "      <th>3</th>\n",
       "      <td>0EF5356002482715299901A</td>\n",
       "      <td>2012-10-22 11:02:35.010000000</td>\n",
       "      <td>2012-11-01 00:00:00</td>\n",
       "      <td>2012-10-22 11:02:32</td>\n",
       "      <td>A</td>\n",
       "      <td>36</td>\n",
       "      <td>16</td>\n",
       "      <td>10000</td>\n",
       "      <td>0.12528</td>\n",
       "      <td>0.06000</td>\n",
       "      <td>Current</td>\n",
       "      <td>2875.000000</td>\n",
       "      <td>True</td>\n",
       "      <td>NaN</td>\n",
       "      <td>NaN</td>\n",
       "    </tr>\n",
       "    <tr>\n",
       "      <th>4</th>\n",
       "      <td>0F023589499656230C5E3E2</td>\n",
       "      <td>2013-09-14 18:38:39.097000000</td>\n",
       "      <td>2013-09-20 00:00:00</td>\n",
       "      <td>2013-09-14 18:38:44</td>\n",
       "      <td>D</td>\n",
       "      <td>36</td>\n",
       "      <td>2</td>\n",
       "      <td>15000</td>\n",
       "      <td>0.24614</td>\n",
       "      <td>0.09066</td>\n",
       "      <td>Current</td>\n",
       "      <td>9583.333333</td>\n",
       "      <td>True</td>\n",
       "      <td>11000.0</td>\n",
       "      <td>9947.9</td>\n",
       "    </tr>\n",
       "  </tbody>\n",
       "</table>\n",
       "</div>"
      ],
      "text/plain": [
       "                ListingKey            ListingCreationDate  \\\n",
       "0  1021339766868145413AB3B  2007-08-26 19:09:29.263000000   \n",
       "1  10273602499503308B223C1  2014-02-27 08:28:07.900000000   \n",
       "2  0EE9337825851032864889A  2007-01-05 15:00:47.090000000   \n",
       "3  0EF5356002482715299901A  2012-10-22 11:02:35.010000000   \n",
       "4  0F023589499656230C5E3E2  2013-09-14 18:38:39.097000000   \n",
       "\n",
       "   LoanOriginationDate               DateCreditPulled ProsperRating (Alpha)  \\\n",
       "0  2007-09-12 00:00:00  2007-08-26 18:41:46.780000000                   NaN   \n",
       "1  2014-03-03 00:00:00            2014-02-27 08:28:14                     A   \n",
       "2  2007-01-17 00:00:00  2007-01-02 14:09:10.060000000                   NaN   \n",
       "3  2012-11-01 00:00:00            2012-10-22 11:02:32                     A   \n",
       "4  2013-09-20 00:00:00            2013-09-14 18:38:44                     D   \n",
       "\n",
       "   Term  ListingCategory (numeric)  LoanOriginalAmount  BorrowerAPR  \\\n",
       "0    36                          0                9425      0.16516   \n",
       "1    36                          2               10000      0.12016   \n",
       "2    36                          0                3001      0.28269   \n",
       "3    36                         16               10000      0.12528   \n",
       "4    36                          2               15000      0.24614   \n",
       "\n",
       "   EstimatedReturn LoanStatus  StatedMonthlyIncome  IsBorrowerHomeowner  \\\n",
       "0              NaN  Completed          3083.333333                 True   \n",
       "1          0.05470    Current          6125.000000                False   \n",
       "2              NaN  Completed          2083.333333                False   \n",
       "3          0.06000    Current          2875.000000                 True   \n",
       "4          0.09066    Current          9583.333333                 True   \n",
       "\n",
       "   ProsperPrincipalBorrowed  ProsperPrincipalOutstanding  \n",
       "0                       NaN                          NaN  \n",
       "1                       NaN                          NaN  \n",
       "2                       NaN                          NaN  \n",
       "3                       NaN                          NaN  \n",
       "4                   11000.0                       9947.9  "
      ]
     },
     "execution_count": 6,
     "metadata": {},
     "output_type": "execute_result"
    }
   ],
   "source": [
    "df[keys].head()"
   ]
  },
  {
   "cell_type": "code",
   "execution_count": 7,
   "metadata": {
    "collapsed": true,
    "slideshow": {
     "slide_type": "skip"
    }
   },
   "outputs": [],
   "source": [
    "loans = df[keys]"
   ]
  },
  {
   "cell_type": "code",
   "execution_count": 8,
   "metadata": {
    "slideshow": {
     "slide_type": "skip"
    }
   },
   "outputs": [
    {
     "name": "stderr",
     "output_type": "stream",
     "text": [
      "C:\\Users\\Jovan\\Anaconda3\\lib\\site-packages\\pandas\\core\\frame.py:2746: SettingWithCopyWarning: \n",
      "A value is trying to be set on a copy of a slice from a DataFrame\n",
      "\n",
      "See the caveats in the documentation: http://pandas.pydata.org/pandas-docs/stable/indexing.html#indexing-view-versus-copy\n",
      "  **kwargs)\n"
     ]
    }
   ],
   "source": [
    "loans.rename(columns={'ProsperRating (Alpha)': 'ProsperRating',\"ListingCategory (numeric)\":\"ListingCategory\"},inplace = True)"
   ]
  },
  {
   "cell_type": "markdown",
   "metadata": {
    "slideshow": {
     "slide_type": "skip"
    }
   },
   "source": [
    "## <font color=#b30069> Assessment </font>"
   ]
  },
  {
   "cell_type": "code",
   "execution_count": 9,
   "metadata": {
    "slideshow": {
     "slide_type": "skip"
    }
   },
   "outputs": [
    {
     "name": "stdout",
     "output_type": "stream",
     "text": [
      "<class 'pandas.core.frame.DataFrame'>\n",
      "RangeIndex: 113937 entries, 0 to 113936\n",
      "Data columns (total 15 columns):\n",
      "ListingKey                     113937 non-null object\n",
      "ListingCreationDate            113937 non-null object\n",
      "LoanOriginationDate            113937 non-null object\n",
      "DateCreditPulled               113937 non-null object\n",
      "ProsperRating                  84853 non-null object\n",
      "Term                           113937 non-null int64\n",
      "ListingCategory                113937 non-null int64\n",
      "LoanOriginalAmount             113937 non-null int64\n",
      "BorrowerAPR                    113912 non-null float64\n",
      "EstimatedReturn                84853 non-null float64\n",
      "LoanStatus                     113937 non-null object\n",
      "StatedMonthlyIncome            113937 non-null float64\n",
      "IsBorrowerHomeowner            113937 non-null bool\n",
      "ProsperPrincipalBorrowed       22085 non-null float64\n",
      "ProsperPrincipalOutstanding    22085 non-null float64\n",
      "dtypes: bool(1), float64(5), int64(3), object(6)\n",
      "memory usage: 9.7+ MB\n"
     ]
    }
   ],
   "source": [
    "loans.info()"
   ]
  },
  {
   "cell_type": "code",
   "execution_count": 10,
   "metadata": {
    "slideshow": {
     "slide_type": "skip"
    }
   },
   "outputs": [
    {
     "data": {
      "text/html": [
       "<div>\n",
       "<style>\n",
       "    .dataframe thead tr:only-child th {\n",
       "        text-align: right;\n",
       "    }\n",
       "\n",
       "    .dataframe thead th {\n",
       "        text-align: left;\n",
       "    }\n",
       "\n",
       "    .dataframe tbody tr th {\n",
       "        vertical-align: top;\n",
       "    }\n",
       "</style>\n",
       "<table border=\"1\" class=\"dataframe\">\n",
       "  <thead>\n",
       "    <tr style=\"text-align: right;\">\n",
       "      <th></th>\n",
       "      <th>Term</th>\n",
       "      <th>ListingCategory</th>\n",
       "      <th>LoanOriginalAmount</th>\n",
       "      <th>BorrowerAPR</th>\n",
       "      <th>EstimatedReturn</th>\n",
       "      <th>StatedMonthlyIncome</th>\n",
       "      <th>ProsperPrincipalBorrowed</th>\n",
       "      <th>ProsperPrincipalOutstanding</th>\n",
       "    </tr>\n",
       "  </thead>\n",
       "  <tbody>\n",
       "    <tr>\n",
       "      <th>count</th>\n",
       "      <td>113937.000000</td>\n",
       "      <td>113937.000000</td>\n",
       "      <td>113937.00000</td>\n",
       "      <td>113912.000000</td>\n",
       "      <td>84853.000000</td>\n",
       "      <td>1.139370e+05</td>\n",
       "      <td>22085.000000</td>\n",
       "      <td>22085.000000</td>\n",
       "    </tr>\n",
       "    <tr>\n",
       "      <th>mean</th>\n",
       "      <td>40.830248</td>\n",
       "      <td>2.774209</td>\n",
       "      <td>8337.01385</td>\n",
       "      <td>0.218828</td>\n",
       "      <td>0.096068</td>\n",
       "      <td>5.608026e+03</td>\n",
       "      <td>8472.311961</td>\n",
       "      <td>2930.313906</td>\n",
       "    </tr>\n",
       "    <tr>\n",
       "      <th>std</th>\n",
       "      <td>10.436212</td>\n",
       "      <td>3.996797</td>\n",
       "      <td>6245.80058</td>\n",
       "      <td>0.080364</td>\n",
       "      <td>0.030403</td>\n",
       "      <td>7.478497e+03</td>\n",
       "      <td>7395.507650</td>\n",
       "      <td>3806.635075</td>\n",
       "    </tr>\n",
       "    <tr>\n",
       "      <th>min</th>\n",
       "      <td>12.000000</td>\n",
       "      <td>0.000000</td>\n",
       "      <td>1000.00000</td>\n",
       "      <td>0.006530</td>\n",
       "      <td>-0.182700</td>\n",
       "      <td>0.000000e+00</td>\n",
       "      <td>0.000000</td>\n",
       "      <td>0.000000</td>\n",
       "    </tr>\n",
       "    <tr>\n",
       "      <th>25%</th>\n",
       "      <td>36.000000</td>\n",
       "      <td>1.000000</td>\n",
       "      <td>4000.00000</td>\n",
       "      <td>0.156290</td>\n",
       "      <td>0.074080</td>\n",
       "      <td>3.200333e+03</td>\n",
       "      <td>3500.000000</td>\n",
       "      <td>0.000000</td>\n",
       "    </tr>\n",
       "    <tr>\n",
       "      <th>50%</th>\n",
       "      <td>36.000000</td>\n",
       "      <td>1.000000</td>\n",
       "      <td>6500.00000</td>\n",
       "      <td>0.209760</td>\n",
       "      <td>0.091700</td>\n",
       "      <td>4.666667e+03</td>\n",
       "      <td>6000.000000</td>\n",
       "      <td>1626.550000</td>\n",
       "    </tr>\n",
       "    <tr>\n",
       "      <th>75%</th>\n",
       "      <td>36.000000</td>\n",
       "      <td>3.000000</td>\n",
       "      <td>12000.00000</td>\n",
       "      <td>0.283810</td>\n",
       "      <td>0.116600</td>\n",
       "      <td>6.825000e+03</td>\n",
       "      <td>11000.000000</td>\n",
       "      <td>4126.720000</td>\n",
       "    </tr>\n",
       "    <tr>\n",
       "      <th>max</th>\n",
       "      <td>60.000000</td>\n",
       "      <td>20.000000</td>\n",
       "      <td>35000.00000</td>\n",
       "      <td>0.512290</td>\n",
       "      <td>0.283700</td>\n",
       "      <td>1.750003e+06</td>\n",
       "      <td>72499.000000</td>\n",
       "      <td>23450.950000</td>\n",
       "    </tr>\n",
       "  </tbody>\n",
       "</table>\n",
       "</div>"
      ],
      "text/plain": [
       "                Term  ListingCategory  LoanOriginalAmount    BorrowerAPR  \\\n",
       "count  113937.000000    113937.000000        113937.00000  113912.000000   \n",
       "mean       40.830248         2.774209          8337.01385       0.218828   \n",
       "std        10.436212         3.996797          6245.80058       0.080364   \n",
       "min        12.000000         0.000000          1000.00000       0.006530   \n",
       "25%        36.000000         1.000000          4000.00000       0.156290   \n",
       "50%        36.000000         1.000000          6500.00000       0.209760   \n",
       "75%        36.000000         3.000000         12000.00000       0.283810   \n",
       "max        60.000000        20.000000         35000.00000       0.512290   \n",
       "\n",
       "       EstimatedReturn  StatedMonthlyIncome  ProsperPrincipalBorrowed  \\\n",
       "count     84853.000000         1.139370e+05              22085.000000   \n",
       "mean          0.096068         5.608026e+03               8472.311961   \n",
       "std           0.030403         7.478497e+03               7395.507650   \n",
       "min          -0.182700         0.000000e+00                  0.000000   \n",
       "25%           0.074080         3.200333e+03               3500.000000   \n",
       "50%           0.091700         4.666667e+03               6000.000000   \n",
       "75%           0.116600         6.825000e+03              11000.000000   \n",
       "max           0.283700         1.750003e+06              72499.000000   \n",
       "\n",
       "       ProsperPrincipalOutstanding  \n",
       "count                 22085.000000  \n",
       "mean                   2930.313906  \n",
       "std                    3806.635075  \n",
       "min                       0.000000  \n",
       "25%                       0.000000  \n",
       "50%                    1626.550000  \n",
       "75%                    4126.720000  \n",
       "max                   23450.950000  "
      ]
     },
     "execution_count": 10,
     "metadata": {},
     "output_type": "execute_result"
    }
   ],
   "source": [
    "loans.describe()"
   ]
  },
  {
   "cell_type": "code",
   "execution_count": 11,
   "metadata": {
    "slideshow": {
     "slide_type": "skip"
    }
   },
   "outputs": [
    {
     "data": {
      "text/html": [
       "<div>\n",
       "<style>\n",
       "    .dataframe thead tr:only-child th {\n",
       "        text-align: right;\n",
       "    }\n",
       "\n",
       "    .dataframe thead th {\n",
       "        text-align: left;\n",
       "    }\n",
       "\n",
       "    .dataframe tbody tr th {\n",
       "        vertical-align: top;\n",
       "    }\n",
       "</style>\n",
       "<table border=\"1\" class=\"dataframe\">\n",
       "  <thead>\n",
       "    <tr style=\"text-align: right;\">\n",
       "      <th></th>\n",
       "      <th>ListingKey</th>\n",
       "      <th>ListingCreationDate</th>\n",
       "      <th>LoanOriginationDate</th>\n",
       "      <th>DateCreditPulled</th>\n",
       "      <th>ProsperRating</th>\n",
       "      <th>Term</th>\n",
       "      <th>ListingCategory</th>\n",
       "      <th>LoanOriginalAmount</th>\n",
       "      <th>BorrowerAPR</th>\n",
       "      <th>EstimatedReturn</th>\n",
       "      <th>LoanStatus</th>\n",
       "      <th>StatedMonthlyIncome</th>\n",
       "      <th>IsBorrowerHomeowner</th>\n",
       "      <th>ProsperPrincipalBorrowed</th>\n",
       "      <th>ProsperPrincipalOutstanding</th>\n",
       "    </tr>\n",
       "  </thead>\n",
       "  <tbody>\n",
       "    <tr>\n",
       "      <th>46</th>\n",
       "      <td>0F8B34281015537050D4FEC</td>\n",
       "      <td>2008-08-05 19:42:49.197000000</td>\n",
       "      <td>2008-08-15 00:00:00</td>\n",
       "      <td>2008-08-05 19:36:35.233000000</td>\n",
       "      <td>NaN</td>\n",
       "      <td>36</td>\n",
       "      <td>1</td>\n",
       "      <td>4000</td>\n",
       "      <td>0.17170</td>\n",
       "      <td>NaN</td>\n",
       "      <td>Completed</td>\n",
       "      <td>3166.666667</td>\n",
       "      <td>False</td>\n",
       "      <td>6000.0</td>\n",
       "      <td>4317.11</td>\n",
       "    </tr>\n",
       "    <tr>\n",
       "      <th>78</th>\n",
       "      <td>0DFE3425061927556BB8A75</td>\n",
       "      <td>2008-06-29 23:23:40.157000000</td>\n",
       "      <td>2008-07-08 00:00:00</td>\n",
       "      <td>2008-06-29 23:13:04.860000000</td>\n",
       "      <td>NaN</td>\n",
       "      <td>36</td>\n",
       "      <td>3</td>\n",
       "      <td>4800</td>\n",
       "      <td>0.18454</td>\n",
       "      <td>NaN</td>\n",
       "      <td>Chargedoff</td>\n",
       "      <td>0.000000</td>\n",
       "      <td>True</td>\n",
       "      <td>7750.0</td>\n",
       "      <td>6725.84</td>\n",
       "    </tr>\n",
       "    <tr>\n",
       "      <th>101</th>\n",
       "      <td>0F6A3407615179140F880BF</td>\n",
       "      <td>2007-12-23 12:09:24</td>\n",
       "      <td>2008-01-08 00:00:00</td>\n",
       "      <td>2007-12-23 11:58:02.563000000</td>\n",
       "      <td>NaN</td>\n",
       "      <td>36</td>\n",
       "      <td>1</td>\n",
       "      <td>2932</td>\n",
       "      <td>0.20421</td>\n",
       "      <td>NaN</td>\n",
       "      <td>Chargedoff</td>\n",
       "      <td>7416.666667</td>\n",
       "      <td>True</td>\n",
       "      <td>25000.0</td>\n",
       "      <td>21862.26</td>\n",
       "    </tr>\n",
       "    <tr>\n",
       "      <th>127</th>\n",
       "      <td>10F83416199324455232962</td>\n",
       "      <td>2008-03-13 12:04:51.623000000</td>\n",
       "      <td>2008-03-21 00:00:00</td>\n",
       "      <td>2008-03-11 11:47:42.457000000</td>\n",
       "      <td>NaN</td>\n",
       "      <td>36</td>\n",
       "      <td>1</td>\n",
       "      <td>2551</td>\n",
       "      <td>0.29743</td>\n",
       "      <td>NaN</td>\n",
       "      <td>Chargedoff</td>\n",
       "      <td>2946.666667</td>\n",
       "      <td>False</td>\n",
       "      <td>5550.0</td>\n",
       "      <td>2331.40</td>\n",
       "    </tr>\n",
       "    <tr>\n",
       "      <th>150</th>\n",
       "      <td>10683423770994576084943</td>\n",
       "      <td>2008-06-12 11:59:55.217000000</td>\n",
       "      <td>2010-05-19 00:00:00</td>\n",
       "      <td>2010-05-07 09:12:07</td>\n",
       "      <td>NaN</td>\n",
       "      <td>36</td>\n",
       "      <td>7</td>\n",
       "      <td>6500</td>\n",
       "      <td>0.08641</td>\n",
       "      <td>NaN</td>\n",
       "      <td>Completed</td>\n",
       "      <td>5833.333333</td>\n",
       "      <td>True</td>\n",
       "      <td>17500.0</td>\n",
       "      <td>0.02</td>\n",
       "    </tr>\n",
       "    <tr>\n",
       "      <th>201</th>\n",
       "      <td>10E533983959116999E3768</td>\n",
       "      <td>2007-08-30 20:56:07.907000000</td>\n",
       "      <td>2007-09-13 00:00:00</td>\n",
       "      <td>2007-08-19 08:47:21.187000000</td>\n",
       "      <td>NaN</td>\n",
       "      <td>36</td>\n",
       "      <td>0</td>\n",
       "      <td>20000</td>\n",
       "      <td>0.15713</td>\n",
       "      <td>NaN</td>\n",
       "      <td>Completed</td>\n",
       "      <td>6666.666667</td>\n",
       "      <td>False</td>\n",
       "      <td>10000.0</td>\n",
       "      <td>0.00</td>\n",
       "    </tr>\n",
       "    <tr>\n",
       "      <th>241</th>\n",
       "      <td>2EBC3426392173872AC3827</td>\n",
       "      <td>2008-07-06 11:49:51.040000000</td>\n",
       "      <td>2008-07-08 00:00:00</td>\n",
       "      <td>2008-07-06 11:28:34.030000000</td>\n",
       "      <td>NaN</td>\n",
       "      <td>36</td>\n",
       "      <td>7</td>\n",
       "      <td>1100</td>\n",
       "      <td>0.37453</td>\n",
       "      <td>NaN</td>\n",
       "      <td>Completed</td>\n",
       "      <td>2702.916667</td>\n",
       "      <td>False</td>\n",
       "      <td>1000.0</td>\n",
       "      <td>555.68</td>\n",
       "    </tr>\n",
       "    <tr>\n",
       "      <th>421</th>\n",
       "      <td>31773411053375955CA3F3E</td>\n",
       "      <td>2008-01-18 15:07:50.917000000</td>\n",
       "      <td>2008-02-04 00:00:00</td>\n",
       "      <td>2008-01-10 13:00:54.947000000</td>\n",
       "      <td>NaN</td>\n",
       "      <td>36</td>\n",
       "      <td>4</td>\n",
       "      <td>1000</td>\n",
       "      <td>0.24264</td>\n",
       "      <td>NaN</td>\n",
       "      <td>Completed</td>\n",
       "      <td>5865.000000</td>\n",
       "      <td>False</td>\n",
       "      <td>3000.0</td>\n",
       "      <td>2514.71</td>\n",
       "    </tr>\n",
       "    <tr>\n",
       "      <th>443</th>\n",
       "      <td>09B334070789257072E536C</td>\n",
       "      <td>2007-11-29 16:15:27.480000000</td>\n",
       "      <td>2007-12-12 00:00:00</td>\n",
       "      <td>2007-11-29 16:01:10.660000000</td>\n",
       "      <td>NaN</td>\n",
       "      <td>36</td>\n",
       "      <td>0</td>\n",
       "      <td>3750</td>\n",
       "      <td>0.10190</td>\n",
       "      <td>NaN</td>\n",
       "      <td>Completed</td>\n",
       "      <td>2166.666667</td>\n",
       "      <td>False</td>\n",
       "      <td>2550.0</td>\n",
       "      <td>1724.48</td>\n",
       "    </tr>\n",
       "    <tr>\n",
       "      <th>521</th>\n",
       "      <td>321E340424193323634BB93</td>\n",
       "      <td>2007-11-14 19:33:38.060000000</td>\n",
       "      <td>2007-11-21 00:00:00</td>\n",
       "      <td>2007-11-14 19:26:23.147000000</td>\n",
       "      <td>NaN</td>\n",
       "      <td>36</td>\n",
       "      <td>0</td>\n",
       "      <td>5000</td>\n",
       "      <td>0.17420</td>\n",
       "      <td>NaN</td>\n",
       "      <td>Completed</td>\n",
       "      <td>30166.666667</td>\n",
       "      <td>True</td>\n",
       "      <td>25000.0</td>\n",
       "      <td>19746.79</td>\n",
       "    </tr>\n",
       "    <tr>\n",
       "      <th>528</th>\n",
       "      <td>3BBA345088754410516372A</td>\n",
       "      <td>2009-04-28 14:08:57.100000000</td>\n",
       "      <td>2010-04-29 00:00:00</td>\n",
       "      <td>2010-04-16 02:06:58</td>\n",
       "      <td>NaN</td>\n",
       "      <td>36</td>\n",
       "      <td>1</td>\n",
       "      <td>10000</td>\n",
       "      <td>0.17170</td>\n",
       "      <td>NaN</td>\n",
       "      <td>Completed</td>\n",
       "      <td>2166.666667</td>\n",
       "      <td>True</td>\n",
       "      <td>7500.0</td>\n",
       "      <td>0.00</td>\n",
       "    </tr>\n",
       "    <tr>\n",
       "      <th>582</th>\n",
       "      <td>459D3418266771185D80EBB</td>\n",
       "      <td>2008-04-05 13:39:53.270000000</td>\n",
       "      <td>2008-04-14 00:00:00</td>\n",
       "      <td>2008-03-30 05:35:52.787000000</td>\n",
       "      <td>NaN</td>\n",
       "      <td>36</td>\n",
       "      <td>1</td>\n",
       "      <td>2551</td>\n",
       "      <td>0.24218</td>\n",
       "      <td>NaN</td>\n",
       "      <td>Completed</td>\n",
       "      <td>2916.666667</td>\n",
       "      <td>True</td>\n",
       "      <td>12551.0</td>\n",
       "      <td>0.00</td>\n",
       "    </tr>\n",
       "    <tr>\n",
       "      <th>725</th>\n",
       "      <td>0A333418840357177C59FEC</td>\n",
       "      <td>2008-04-27 19:21:57.207000000</td>\n",
       "      <td>2009-11-12 00:00:00</td>\n",
       "      <td>2009-10-22 11:37:32</td>\n",
       "      <td>NaN</td>\n",
       "      <td>36</td>\n",
       "      <td>1</td>\n",
       "      <td>2348</td>\n",
       "      <td>0.10082</td>\n",
       "      <td>NaN</td>\n",
       "      <td>Completed</td>\n",
       "      <td>1400.000000</td>\n",
       "      <td>False</td>\n",
       "      <td>5000.0</td>\n",
       "      <td>1689.63</td>\n",
       "    </tr>\n",
       "    <tr>\n",
       "      <th>781</th>\n",
       "      <td>31803417032608077E3BF2D</td>\n",
       "      <td>2008-04-06 00:06:46.820000000</td>\n",
       "      <td>2008-04-10 00:00:00</td>\n",
       "      <td>2008-04-03 23:58:34.053000000</td>\n",
       "      <td>NaN</td>\n",
       "      <td>36</td>\n",
       "      <td>3</td>\n",
       "      <td>1800</td>\n",
       "      <td>0.15863</td>\n",
       "      <td>NaN</td>\n",
       "      <td>Completed</td>\n",
       "      <td>2211.166667</td>\n",
       "      <td>False</td>\n",
       "      <td>5800.0</td>\n",
       "      <td>5076.21</td>\n",
       "    </tr>\n",
       "    <tr>\n",
       "      <th>795</th>\n",
       "      <td>00F0343244233918981458D</td>\n",
       "      <td>2008-09-14 13:41:52.210000000</td>\n",
       "      <td>2008-09-23 00:00:00</td>\n",
       "      <td>2008-09-14 13:41:33.707000000</td>\n",
       "      <td>NaN</td>\n",
       "      <td>36</td>\n",
       "      <td>7</td>\n",
       "      <td>10000</td>\n",
       "      <td>0.14621</td>\n",
       "      <td>NaN</td>\n",
       "      <td>Completed</td>\n",
       "      <td>3433.333333</td>\n",
       "      <td>True</td>\n",
       "      <td>12000.0</td>\n",
       "      <td>8919.77</td>\n",
       "    </tr>\n",
       "    <tr>\n",
       "      <th>796</th>\n",
       "      <td>028C341369191670823894C</td>\n",
       "      <td>2008-03-03 11:25:13.360000000</td>\n",
       "      <td>2008-03-12 00:00:00</td>\n",
       "      <td>2008-03-03 11:21:42.397000000</td>\n",
       "      <td>NaN</td>\n",
       "      <td>36</td>\n",
       "      <td>1</td>\n",
       "      <td>2500</td>\n",
       "      <td>0.12201</td>\n",
       "      <td>NaN</td>\n",
       "      <td>Completed</td>\n",
       "      <td>6711.000000</td>\n",
       "      <td>True</td>\n",
       "      <td>10000.0</td>\n",
       "      <td>6567.02</td>\n",
       "    </tr>\n",
       "    <tr>\n",
       "      <th>927</th>\n",
       "      <td>3E393418801908904F734EB</td>\n",
       "      <td>2008-04-16 11:17:01.527000000</td>\n",
       "      <td>2008-04-24 00:00:00</td>\n",
       "      <td>2008-04-16 10:00:00.017000000</td>\n",
       "      <td>NaN</td>\n",
       "      <td>36</td>\n",
       "      <td>4</td>\n",
       "      <td>3000</td>\n",
       "      <td>0.10739</td>\n",
       "      <td>NaN</td>\n",
       "      <td>Completed</td>\n",
       "      <td>2416.666667</td>\n",
       "      <td>True</td>\n",
       "      <td>2000.0</td>\n",
       "      <td>488.63</td>\n",
       "    </tr>\n",
       "    <tr>\n",
       "      <th>962</th>\n",
       "      <td>32763431438264028DA5E86</td>\n",
       "      <td>2008-09-13 11:51:40.320000000</td>\n",
       "      <td>2008-09-26 00:00:00</td>\n",
       "      <td>2008-08-16 11:18:30.800000000</td>\n",
       "      <td>NaN</td>\n",
       "      <td>36</td>\n",
       "      <td>1</td>\n",
       "      <td>14000</td>\n",
       "      <td>0.17445</td>\n",
       "      <td>NaN</td>\n",
       "      <td>Defaulted</td>\n",
       "      <td>10833.333333</td>\n",
       "      <td>True</td>\n",
       "      <td>3500.0</td>\n",
       "      <td>2059.30</td>\n",
       "    </tr>\n",
       "    <tr>\n",
       "      <th>1004</th>\n",
       "      <td>2E1E341339094190219FF44</td>\n",
       "      <td>2008-02-20 10:46:38.547000000</td>\n",
       "      <td>2008-02-26 00:00:00</td>\n",
       "      <td>2008-02-19 11:57:36.860000000</td>\n",
       "      <td>NaN</td>\n",
       "      <td>36</td>\n",
       "      <td>1</td>\n",
       "      <td>1500</td>\n",
       "      <td>0.26292</td>\n",
       "      <td>NaN</td>\n",
       "      <td>Defaulted</td>\n",
       "      <td>2833.333333</td>\n",
       "      <td>False</td>\n",
       "      <td>2600.0</td>\n",
       "      <td>2287.03</td>\n",
       "    </tr>\n",
       "    <tr>\n",
       "      <th>1005</th>\n",
       "      <td>2E29341833986637037BD06</td>\n",
       "      <td>2008-04-05 10:19:03.943000000</td>\n",
       "      <td>2008-04-14 00:00:00</td>\n",
       "      <td>2008-04-05 10:07:42.637000000</td>\n",
       "      <td>NaN</td>\n",
       "      <td>36</td>\n",
       "      <td>4</td>\n",
       "      <td>6001</td>\n",
       "      <td>0.15793</td>\n",
       "      <td>NaN</td>\n",
       "      <td>Completed</td>\n",
       "      <td>5833.333333</td>\n",
       "      <td>False</td>\n",
       "      <td>6001.0</td>\n",
       "      <td>4645.23</td>\n",
       "    </tr>\n",
       "    <tr>\n",
       "      <th>1076</th>\n",
       "      <td>0A623425302359416A5D971</td>\n",
       "      <td>2008-07-13 08:48:40.583000000</td>\n",
       "      <td>2008-07-23 00:00:00</td>\n",
       "      <td>2008-07-13 08:39:20.973000000</td>\n",
       "      <td>NaN</td>\n",
       "      <td>36</td>\n",
       "      <td>1</td>\n",
       "      <td>4000</td>\n",
       "      <td>0.19146</td>\n",
       "      <td>NaN</td>\n",
       "      <td>Chargedoff</td>\n",
       "      <td>12083.333333</td>\n",
       "      <td>True</td>\n",
       "      <td>2900.0</td>\n",
       "      <td>1430.70</td>\n",
       "    </tr>\n",
       "    <tr>\n",
       "      <th>1096</th>\n",
       "      <td>2EDA341431574446356C8B5</td>\n",
       "      <td>2008-03-07 10:32:50.363000000</td>\n",
       "      <td>2008-03-14 00:00:00</td>\n",
       "      <td>2008-02-22 11:51:57.707000000</td>\n",
       "      <td>NaN</td>\n",
       "      <td>36</td>\n",
       "      <td>3</td>\n",
       "      <td>7400</td>\n",
       "      <td>0.11034</td>\n",
       "      <td>NaN</td>\n",
       "      <td>Chargedoff</td>\n",
       "      <td>13333.333333</td>\n",
       "      <td>True</td>\n",
       "      <td>25000.0</td>\n",
       "      <td>17392.04</td>\n",
       "    </tr>\n",
       "    <tr>\n",
       "      <th>1134</th>\n",
       "      <td>2EF13421061165476DDF730</td>\n",
       "      <td>2008-05-04 17:23:35.570000000</td>\n",
       "      <td>2008-05-14 00:00:00</td>\n",
       "      <td>2008-04-23 13:19:45.620000000</td>\n",
       "      <td>NaN</td>\n",
       "      <td>36</td>\n",
       "      <td>2</td>\n",
       "      <td>4000</td>\n",
       "      <td>0.18112</td>\n",
       "      <td>NaN</td>\n",
       "      <td>Defaulted</td>\n",
       "      <td>4583.333333</td>\n",
       "      <td>True</td>\n",
       "      <td>2500.0</td>\n",
       "      <td>1462.62</td>\n",
       "    </tr>\n",
       "    <tr>\n",
       "      <th>1142</th>\n",
       "      <td>026A3430080076772A0C8EF</td>\n",
       "      <td>2008-08-19 07:33:48.420000000</td>\n",
       "      <td>2008-09-03 00:00:00</td>\n",
       "      <td>2008-08-19 07:33:03.637000000</td>\n",
       "      <td>NaN</td>\n",
       "      <td>36</td>\n",
       "      <td>6</td>\n",
       "      <td>3300</td>\n",
       "      <td>0.15428</td>\n",
       "      <td>NaN</td>\n",
       "      <td>Completed</td>\n",
       "      <td>5000.000000</td>\n",
       "      <td>True</td>\n",
       "      <td>7100.0</td>\n",
       "      <td>5580.10</td>\n",
       "    </tr>\n",
       "    <tr>\n",
       "      <th>1162</th>\n",
       "      <td>09D9342016981978829A48A</td>\n",
       "      <td>2008-05-06 13:43:57.777000000</td>\n",
       "      <td>2008-05-20 00:00:00</td>\n",
       "      <td>2008-04-23 13:10:27.207000000</td>\n",
       "      <td>NaN</td>\n",
       "      <td>36</td>\n",
       "      <td>4</td>\n",
       "      <td>2000</td>\n",
       "      <td>0.17981</td>\n",
       "      <td>NaN</td>\n",
       "      <td>Chargedoff</td>\n",
       "      <td>5500.000000</td>\n",
       "      <td>False</td>\n",
       "      <td>6001.0</td>\n",
       "      <td>2452.20</td>\n",
       "    </tr>\n",
       "    <tr>\n",
       "      <th>1202</th>\n",
       "      <td>3769342939275188913D6F5</td>\n",
       "      <td>2008-08-17 21:09:08.673000000</td>\n",
       "      <td>2008-09-23 00:00:00</td>\n",
       "      <td>2008-08-17 21:09:02.957000000</td>\n",
       "      <td>NaN</td>\n",
       "      <td>36</td>\n",
       "      <td>5</td>\n",
       "      <td>2500</td>\n",
       "      <td>0.29334</td>\n",
       "      <td>NaN</td>\n",
       "      <td>Completed</td>\n",
       "      <td>3500.000000</td>\n",
       "      <td>False</td>\n",
       "      <td>6500.0</td>\n",
       "      <td>0.00</td>\n",
       "    </tr>\n",
       "    <tr>\n",
       "      <th>1608</th>\n",
       "      <td>31233426635894494168E7E</td>\n",
       "      <td>2008-07-16 14:12:04.593000000</td>\n",
       "      <td>2008-07-24 00:00:00</td>\n",
       "      <td>2008-06-29 10:17:51.710000000</td>\n",
       "      <td>NaN</td>\n",
       "      <td>36</td>\n",
       "      <td>3</td>\n",
       "      <td>3500</td>\n",
       "      <td>0.23757</td>\n",
       "      <td>NaN</td>\n",
       "      <td>Chargedoff</td>\n",
       "      <td>2160.000000</td>\n",
       "      <td>True</td>\n",
       "      <td>10101.0</td>\n",
       "      <td>7721.12</td>\n",
       "    </tr>\n",
       "    <tr>\n",
       "      <th>1626</th>\n",
       "      <td>031434246499496673A8C83</td>\n",
       "      <td>2008-07-04 18:00:51.063000000</td>\n",
       "      <td>2008-07-17 00:00:00</td>\n",
       "      <td>2008-07-04 17:56:31.603000000</td>\n",
       "      <td>NaN</td>\n",
       "      <td>36</td>\n",
       "      <td>1</td>\n",
       "      <td>5000</td>\n",
       "      <td>0.27346</td>\n",
       "      <td>NaN</td>\n",
       "      <td>Completed</td>\n",
       "      <td>7083.333333</td>\n",
       "      <td>True</td>\n",
       "      <td>2000.0</td>\n",
       "      <td>0.00</td>\n",
       "    </tr>\n",
       "    <tr>\n",
       "      <th>1670</th>\n",
       "      <td>032434101476267742121AD</td>\n",
       "      <td>2007-12-31 09:18:26.250000000</td>\n",
       "      <td>2008-01-14 00:00:00</td>\n",
       "      <td>2007-12-27 09:46:14.923000000</td>\n",
       "      <td>NaN</td>\n",
       "      <td>36</td>\n",
       "      <td>7</td>\n",
       "      <td>3500</td>\n",
       "      <td>0.28771</td>\n",
       "      <td>NaN</td>\n",
       "      <td>Completed</td>\n",
       "      <td>8750.000000</td>\n",
       "      <td>True</td>\n",
       "      <td>4000.0</td>\n",
       "      <td>3407.21</td>\n",
       "    </tr>\n",
       "    <tr>\n",
       "      <th>1711</th>\n",
       "      <td>3A0233988604843152E9294</td>\n",
       "      <td>2007-09-10 11:11:24.017000000</td>\n",
       "      <td>2007-09-24 00:00:00</td>\n",
       "      <td>2007-09-10 10:57:20.480000000</td>\n",
       "      <td>NaN</td>\n",
       "      <td>36</td>\n",
       "      <td>0</td>\n",
       "      <td>24999</td>\n",
       "      <td>0.10140</td>\n",
       "      <td>NaN</td>\n",
       "      <td>Completed</td>\n",
       "      <td>20427.000000</td>\n",
       "      <td>True</td>\n",
       "      <td>30000.0</td>\n",
       "      <td>0.00</td>\n",
       "    </tr>\n",
       "    <tr>\n",
       "      <th>...</th>\n",
       "      <td>...</td>\n",
       "      <td>...</td>\n",
       "      <td>...</td>\n",
       "      <td>...</td>\n",
       "      <td>...</td>\n",
       "      <td>...</td>\n",
       "      <td>...</td>\n",
       "      <td>...</td>\n",
       "      <td>...</td>\n",
       "      <td>...</td>\n",
       "      <td>...</td>\n",
       "      <td>...</td>\n",
       "      <td>...</td>\n",
       "      <td>...</td>\n",
       "      <td>...</td>\n",
       "    </tr>\n",
       "    <tr>\n",
       "      <th>112236</th>\n",
       "      <td>F33F3430127682069FD82FD</td>\n",
       "      <td>2008-09-08 08:07:16.863000000</td>\n",
       "      <td>2008-09-15 00:00:00</td>\n",
       "      <td>2008-09-08 08:06:34.283000000</td>\n",
       "      <td>NaN</td>\n",
       "      <td>36</td>\n",
       "      <td>1</td>\n",
       "      <td>6500</td>\n",
       "      <td>0.37453</td>\n",
       "      <td>NaN</td>\n",
       "      <td>Completed</td>\n",
       "      <td>9583.333333</td>\n",
       "      <td>True</td>\n",
       "      <td>2000.0</td>\n",
       "      <td>0.00</td>\n",
       "    </tr>\n",
       "    <tr>\n",
       "      <th>112265</th>\n",
       "      <td>D7B43427505364977E574C3</td>\n",
       "      <td>2008-08-10 09:01:54.130000000</td>\n",
       "      <td>2008-08-20 00:00:00</td>\n",
       "      <td>2008-07-13 14:13:33.960000000</td>\n",
       "      <td>NaN</td>\n",
       "      <td>36</td>\n",
       "      <td>7</td>\n",
       "      <td>3500</td>\n",
       "      <td>0.25278</td>\n",
       "      <td>NaN</td>\n",
       "      <td>Completed</td>\n",
       "      <td>3333.333333</td>\n",
       "      <td>True</td>\n",
       "      <td>3000.0</td>\n",
       "      <td>2099.01</td>\n",
       "    </tr>\n",
       "    <tr>\n",
       "      <th>112315</th>\n",
       "      <td>C4A134204666711188C783A</td>\n",
       "      <td>2008-05-12 12:13:19.930000000</td>\n",
       "      <td>2008-05-21 00:00:00</td>\n",
       "      <td>2008-05-12 11:56:00.810000000</td>\n",
       "      <td>NaN</td>\n",
       "      <td>36</td>\n",
       "      <td>1</td>\n",
       "      <td>13800</td>\n",
       "      <td>0.26434</td>\n",
       "      <td>NaN</td>\n",
       "      <td>Completed</td>\n",
       "      <td>3166.666667</td>\n",
       "      <td>False</td>\n",
       "      <td>2500.0</td>\n",
       "      <td>0.00</td>\n",
       "    </tr>\n",
       "    <tr>\n",
       "      <th>112383</th>\n",
       "      <td>D1F434206040633271E493A</td>\n",
       "      <td>2008-05-05 11:14:12.510000000</td>\n",
       "      <td>2008-05-16 00:00:00</td>\n",
       "      <td>2008-04-27 13:25:10.680000000</td>\n",
       "      <td>NaN</td>\n",
       "      <td>36</td>\n",
       "      <td>3</td>\n",
       "      <td>7500</td>\n",
       "      <td>0.15522</td>\n",
       "      <td>NaN</td>\n",
       "      <td>Defaulted</td>\n",
       "      <td>0.000000</td>\n",
       "      <td>True</td>\n",
       "      <td>2500.0</td>\n",
       "      <td>0.00</td>\n",
       "    </tr>\n",
       "    <tr>\n",
       "      <th>112401</th>\n",
       "      <td>BE2C3405676093406D84C68</td>\n",
       "      <td>2007-11-30 19:07:09.933000000</td>\n",
       "      <td>2007-12-11 00:00:00</td>\n",
       "      <td>2007-11-30 18:20:40.687000000</td>\n",
       "      <td>NaN</td>\n",
       "      <td>36</td>\n",
       "      <td>0</td>\n",
       "      <td>4000</td>\n",
       "      <td>0.22432</td>\n",
       "      <td>NaN</td>\n",
       "      <td>Chargedoff</td>\n",
       "      <td>2166.666667</td>\n",
       "      <td>False</td>\n",
       "      <td>1200.0</td>\n",
       "      <td>917.84</td>\n",
       "    </tr>\n",
       "    <tr>\n",
       "      <th>112422</th>\n",
       "      <td>F7AE342710917013738786C</td>\n",
       "      <td>2008-08-04 17:56:20.023000000</td>\n",
       "      <td>2008-08-07 00:00:00</td>\n",
       "      <td>2008-07-14 09:53:00.677000000</td>\n",
       "      <td>NaN</td>\n",
       "      <td>36</td>\n",
       "      <td>7</td>\n",
       "      <td>5900</td>\n",
       "      <td>0.37453</td>\n",
       "      <td>NaN</td>\n",
       "      <td>Defaulted</td>\n",
       "      <td>7083.333333</td>\n",
       "      <td>False</td>\n",
       "      <td>4000.0</td>\n",
       "      <td>1537.90</td>\n",
       "    </tr>\n",
       "    <tr>\n",
       "      <th>112523</th>\n",
       "      <td>FA0E3407513388318608A6A</td>\n",
       "      <td>2007-12-07 10:14:35.090000000</td>\n",
       "      <td>2007-12-18 00:00:00</td>\n",
       "      <td>2007-11-29 11:04:49.200000000</td>\n",
       "      <td>NaN</td>\n",
       "      <td>36</td>\n",
       "      <td>3</td>\n",
       "      <td>3100</td>\n",
       "      <td>0.35805</td>\n",
       "      <td>NaN</td>\n",
       "      <td>Completed</td>\n",
       "      <td>5083.333333</td>\n",
       "      <td>True</td>\n",
       "      <td>3500.0</td>\n",
       "      <td>2640.17</td>\n",
       "    </tr>\n",
       "    <tr>\n",
       "      <th>112712</th>\n",
       "      <td>E2CD341127391966656EBA3</td>\n",
       "      <td>2008-01-17 10:03:22.690000000</td>\n",
       "      <td>2008-01-23 00:00:00</td>\n",
       "      <td>2007-12-27 14:16:37.497000000</td>\n",
       "      <td>NaN</td>\n",
       "      <td>36</td>\n",
       "      <td>3</td>\n",
       "      <td>2850</td>\n",
       "      <td>0.25517</td>\n",
       "      <td>NaN</td>\n",
       "      <td>Chargedoff</td>\n",
       "      <td>0.083333</td>\n",
       "      <td>False</td>\n",
       "      <td>4800.0</td>\n",
       "      <td>3957.83</td>\n",
       "    </tr>\n",
       "    <tr>\n",
       "      <th>112878</th>\n",
       "      <td>D2863409195999444F73882</td>\n",
       "      <td>2007-12-21 08:29:39.673000000</td>\n",
       "      <td>2008-01-02 00:00:00</td>\n",
       "      <td>2007-12-17 08:51:33.423000000</td>\n",
       "      <td>NaN</td>\n",
       "      <td>36</td>\n",
       "      <td>4</td>\n",
       "      <td>1500</td>\n",
       "      <td>0.36623</td>\n",
       "      <td>NaN</td>\n",
       "      <td>Completed</td>\n",
       "      <td>3750.000000</td>\n",
       "      <td>True</td>\n",
       "      <td>3000.0</td>\n",
       "      <td>1961.05</td>\n",
       "    </tr>\n",
       "    <tr>\n",
       "      <th>112937</th>\n",
       "      <td>E7563409955413607F68B2E</td>\n",
       "      <td>2008-01-13 17:40:23.587000000</td>\n",
       "      <td>2008-01-25 00:00:00</td>\n",
       "      <td>2008-01-14 10:28:42.033000000</td>\n",
       "      <td>NaN</td>\n",
       "      <td>36</td>\n",
       "      <td>1</td>\n",
       "      <td>1200</td>\n",
       "      <td>0.23635</td>\n",
       "      <td>NaN</td>\n",
       "      <td>Completed</td>\n",
       "      <td>4041.666667</td>\n",
       "      <td>True</td>\n",
       "      <td>2500.0</td>\n",
       "      <td>2044.35</td>\n",
       "    </tr>\n",
       "    <tr>\n",
       "      <th>112999</th>\n",
       "      <td>E7F03414156541809421D61</td>\n",
       "      <td>2008-02-26 05:22:36.457000000</td>\n",
       "      <td>2008-03-11 00:00:00</td>\n",
       "      <td>2008-02-26 05:15:28.200000000</td>\n",
       "      <td>NaN</td>\n",
       "      <td>36</td>\n",
       "      <td>1</td>\n",
       "      <td>6000</td>\n",
       "      <td>0.24264</td>\n",
       "      <td>NaN</td>\n",
       "      <td>Completed</td>\n",
       "      <td>3666.666667</td>\n",
       "      <td>True</td>\n",
       "      <td>3001.0</td>\n",
       "      <td>544.92</td>\n",
       "    </tr>\n",
       "    <tr>\n",
       "      <th>113022</th>\n",
       "      <td>D5703397897023536DDCF24</td>\n",
       "      <td>2007-08-26 19:41:33.630000000</td>\n",
       "      <td>2007-09-05 00:00:00</td>\n",
       "      <td>2007-08-26 19:26:50.237000000</td>\n",
       "      <td>NaN</td>\n",
       "      <td>36</td>\n",
       "      <td>0</td>\n",
       "      <td>1000</td>\n",
       "      <td>0.08708</td>\n",
       "      <td>NaN</td>\n",
       "      <td>Completed</td>\n",
       "      <td>4052.000000</td>\n",
       "      <td>True</td>\n",
       "      <td>1000.0</td>\n",
       "      <td>0.00</td>\n",
       "    </tr>\n",
       "    <tr>\n",
       "      <th>113026</th>\n",
       "      <td>D5A434268713779195A9BBA</td>\n",
       "      <td>2008-07-23 16:28:02.330000000</td>\n",
       "      <td>2008-08-05 00:00:00</td>\n",
       "      <td>2008-07-23 16:20:50.600000000</td>\n",
       "      <td>NaN</td>\n",
       "      <td>36</td>\n",
       "      <td>7</td>\n",
       "      <td>1200</td>\n",
       "      <td>0.19652</td>\n",
       "      <td>NaN</td>\n",
       "      <td>Completed</td>\n",
       "      <td>2916.666667</td>\n",
       "      <td>False</td>\n",
       "      <td>3001.0</td>\n",
       "      <td>1661.88</td>\n",
       "    </tr>\n",
       "    <tr>\n",
       "      <th>113147</th>\n",
       "      <td>EE0D342107928745194F1D8</td>\n",
       "      <td>2008-05-22 13:44:41.163000000</td>\n",
       "      <td>2008-05-30 00:00:00</td>\n",
       "      <td>2008-05-13 14:10:58.270000000</td>\n",
       "      <td>NaN</td>\n",
       "      <td>36</td>\n",
       "      <td>2</td>\n",
       "      <td>6500</td>\n",
       "      <td>0.31353</td>\n",
       "      <td>NaN</td>\n",
       "      <td>Chargedoff</td>\n",
       "      <td>3750.000000</td>\n",
       "      <td>True</td>\n",
       "      <td>16000.0</td>\n",
       "      <td>12717.62</td>\n",
       "    </tr>\n",
       "    <tr>\n",
       "      <th>113169</th>\n",
       "      <td>D9523409032526351D454D9</td>\n",
       "      <td>2007-12-22 15:52:29.270000000</td>\n",
       "      <td>2007-12-31 00:00:00</td>\n",
       "      <td>2007-12-22 15:47:07.920000000</td>\n",
       "      <td>NaN</td>\n",
       "      <td>36</td>\n",
       "      <td>4</td>\n",
       "      <td>1500</td>\n",
       "      <td>0.14683</td>\n",
       "      <td>NaN</td>\n",
       "      <td>Completed</td>\n",
       "      <td>5597.583333</td>\n",
       "      <td>False</td>\n",
       "      <td>2000.0</td>\n",
       "      <td>0.00</td>\n",
       "    </tr>\n",
       "    <tr>\n",
       "      <th>113188</th>\n",
       "      <td>EE1A34125451750825EF226</td>\n",
       "      <td>2008-02-14 14:21:19.103000000</td>\n",
       "      <td>2008-02-20 00:00:00</td>\n",
       "      <td>2008-02-14 10:25:33.737000000</td>\n",
       "      <td>NaN</td>\n",
       "      <td>36</td>\n",
       "      <td>3</td>\n",
       "      <td>6000</td>\n",
       "      <td>0.16941</td>\n",
       "      <td>NaN</td>\n",
       "      <td>Completed</td>\n",
       "      <td>3750.000000</td>\n",
       "      <td>True</td>\n",
       "      <td>15000.0</td>\n",
       "      <td>12916.48</td>\n",
       "    </tr>\n",
       "    <tr>\n",
       "      <th>113203</th>\n",
       "      <td>DBD634233093282919FB65B</td>\n",
       "      <td>2008-06-17 07:57:30.550000000</td>\n",
       "      <td>2008-06-25 00:00:00</td>\n",
       "      <td>2008-06-17 07:03:52.283000000</td>\n",
       "      <td>NaN</td>\n",
       "      <td>36</td>\n",
       "      <td>3</td>\n",
       "      <td>5000</td>\n",
       "      <td>0.19190</td>\n",
       "      <td>NaN</td>\n",
       "      <td>Defaulted</td>\n",
       "      <td>6583.333333</td>\n",
       "      <td>True</td>\n",
       "      <td>3001.0</td>\n",
       "      <td>0.00</td>\n",
       "    </tr>\n",
       "    <tr>\n",
       "      <th>113205</th>\n",
       "      <td>DBE23429969308690638BCB</td>\n",
       "      <td>2008-08-19 15:58:02.360000000</td>\n",
       "      <td>2008-08-28 00:00:00</td>\n",
       "      <td>2008-08-05 15:20:15.323000000</td>\n",
       "      <td>NaN</td>\n",
       "      <td>36</td>\n",
       "      <td>1</td>\n",
       "      <td>6000</td>\n",
       "      <td>0.35717</td>\n",
       "      <td>NaN</td>\n",
       "      <td>Chargedoff</td>\n",
       "      <td>5827.583333</td>\n",
       "      <td>False</td>\n",
       "      <td>5450.0</td>\n",
       "      <td>0.00</td>\n",
       "    </tr>\n",
       "    <tr>\n",
       "      <th>113425</th>\n",
       "      <td>D7093426345724019AA5767</td>\n",
       "      <td>2008-07-20 20:27:03.317000000</td>\n",
       "      <td>2008-07-29 00:00:00</td>\n",
       "      <td>2008-07-18 20:04:46.423000000</td>\n",
       "      <td>NaN</td>\n",
       "      <td>36</td>\n",
       "      <td>5</td>\n",
       "      <td>15000</td>\n",
       "      <td>0.18302</td>\n",
       "      <td>NaN</td>\n",
       "      <td>Completed</td>\n",
       "      <td>4750.000000</td>\n",
       "      <td>True</td>\n",
       "      <td>10000.0</td>\n",
       "      <td>0.00</td>\n",
       "    </tr>\n",
       "    <tr>\n",
       "      <th>113458</th>\n",
       "      <td>E26A342066347518388FAAE</td>\n",
       "      <td>2008-05-03 17:08:28.200000000</td>\n",
       "      <td>2008-05-06 00:00:00</td>\n",
       "      <td>2008-05-03 17:03:43.837000000</td>\n",
       "      <td>NaN</td>\n",
       "      <td>36</td>\n",
       "      <td>5</td>\n",
       "      <td>1000</td>\n",
       "      <td>0.21020</td>\n",
       "      <td>NaN</td>\n",
       "      <td>Completed</td>\n",
       "      <td>7083.333333</td>\n",
       "      <td>True</td>\n",
       "      <td>5000.0</td>\n",
       "      <td>2942.70</td>\n",
       "    </tr>\n",
       "    <tr>\n",
       "      <th>113479</th>\n",
       "      <td>F6773410347960189D25F0E</td>\n",
       "      <td>2008-01-02 05:33:38.063000000</td>\n",
       "      <td>2008-01-10 00:00:00</td>\n",
       "      <td>2007-12-19 11:57:17.213000000</td>\n",
       "      <td>NaN</td>\n",
       "      <td>36</td>\n",
       "      <td>1</td>\n",
       "      <td>3500</td>\n",
       "      <td>0.27535</td>\n",
       "      <td>NaN</td>\n",
       "      <td>Completed</td>\n",
       "      <td>5250.000000</td>\n",
       "      <td>False</td>\n",
       "      <td>3500.0</td>\n",
       "      <td>2802.46</td>\n",
       "    </tr>\n",
       "    <tr>\n",
       "      <th>113485</th>\n",
       "      <td>DA153422134287105784C7D</td>\n",
       "      <td>2008-05-29 19:20:20.503000000</td>\n",
       "      <td>2008-06-09 00:00:00</td>\n",
       "      <td>2008-05-29 18:27:16.033000000</td>\n",
       "      <td>NaN</td>\n",
       "      <td>36</td>\n",
       "      <td>4</td>\n",
       "      <td>6000</td>\n",
       "      <td>0.18756</td>\n",
       "      <td>NaN</td>\n",
       "      <td>Completed</td>\n",
       "      <td>0.000000</td>\n",
       "      <td>True</td>\n",
       "      <td>10000.0</td>\n",
       "      <td>7768.47</td>\n",
       "    </tr>\n",
       "    <tr>\n",
       "      <th>113517</th>\n",
       "      <td>F6B434235328414801924AE</td>\n",
       "      <td>2008-06-10 16:37:31.540000000</td>\n",
       "      <td>2008-06-19 00:00:00</td>\n",
       "      <td>2008-06-03 16:07:24.290000000</td>\n",
       "      <td>NaN</td>\n",
       "      <td>36</td>\n",
       "      <td>1</td>\n",
       "      <td>10000</td>\n",
       "      <td>0.20582</td>\n",
       "      <td>NaN</td>\n",
       "      <td>Defaulted</td>\n",
       "      <td>4000.000000</td>\n",
       "      <td>True</td>\n",
       "      <td>5000.0</td>\n",
       "      <td>1384.38</td>\n",
       "    </tr>\n",
       "    <tr>\n",
       "      <th>113678</th>\n",
       "      <td>FD9A3416215762467E1A5A5</td>\n",
       "      <td>2008-03-16 16:48:27.613000000</td>\n",
       "      <td>2008-03-28 00:00:00</td>\n",
       "      <td>2008-03-16 16:45:18.020000000</td>\n",
       "      <td>NaN</td>\n",
       "      <td>36</td>\n",
       "      <td>1</td>\n",
       "      <td>6000</td>\n",
       "      <td>0.12562</td>\n",
       "      <td>NaN</td>\n",
       "      <td>Completed</td>\n",
       "      <td>2166.666667</td>\n",
       "      <td>True</td>\n",
       "      <td>8000.0</td>\n",
       "      <td>6833.96</td>\n",
       "    </tr>\n",
       "    <tr>\n",
       "      <th>113785</th>\n",
       "      <td>CF5E3421929977128B83CE2</td>\n",
       "      <td>2008-05-21 12:22:43.767000000</td>\n",
       "      <td>2008-05-28 00:00:00</td>\n",
       "      <td>2008-05-13 22:06:38.203000000</td>\n",
       "      <td>NaN</td>\n",
       "      <td>36</td>\n",
       "      <td>1</td>\n",
       "      <td>3000</td>\n",
       "      <td>0.32368</td>\n",
       "      <td>NaN</td>\n",
       "      <td>Chargedoff</td>\n",
       "      <td>4491.666667</td>\n",
       "      <td>False</td>\n",
       "      <td>1000.0</td>\n",
       "      <td>639.32</td>\n",
       "    </tr>\n",
       "    <tr>\n",
       "      <th>113803</th>\n",
       "      <td>DEA93427782854712C73CB8</td>\n",
       "      <td>2008-08-01 01:42:00.820000000</td>\n",
       "      <td>2008-08-12 00:00:00</td>\n",
       "      <td>2008-08-01 01:40:12.270000000</td>\n",
       "      <td>NaN</td>\n",
       "      <td>36</td>\n",
       "      <td>7</td>\n",
       "      <td>5000</td>\n",
       "      <td>0.11293</td>\n",
       "      <td>NaN</td>\n",
       "      <td>Defaulted</td>\n",
       "      <td>0.000000</td>\n",
       "      <td>True</td>\n",
       "      <td>1000.0</td>\n",
       "      <td>724.82</td>\n",
       "    </tr>\n",
       "    <tr>\n",
       "      <th>113804</th>\n",
       "      <td>DEB2341377319696802F2FD</td>\n",
       "      <td>2008-02-16 19:23:45.313000000</td>\n",
       "      <td>2008-02-26 00:00:00</td>\n",
       "      <td>2008-01-20 19:49:32.797000000</td>\n",
       "      <td>NaN</td>\n",
       "      <td>36</td>\n",
       "      <td>1</td>\n",
       "      <td>5000</td>\n",
       "      <td>0.26140</td>\n",
       "      <td>NaN</td>\n",
       "      <td>Completed</td>\n",
       "      <td>13333.333333</td>\n",
       "      <td>False</td>\n",
       "      <td>5000.0</td>\n",
       "      <td>4336.45</td>\n",
       "    </tr>\n",
       "    <tr>\n",
       "      <th>113843</th>\n",
       "      <td>DF1B34173558923433980EF</td>\n",
       "      <td>2008-04-08 18:49:03.347000000</td>\n",
       "      <td>2008-04-15 00:00:00</td>\n",
       "      <td>2008-04-07 19:37:12.623000000</td>\n",
       "      <td>NaN</td>\n",
       "      <td>36</td>\n",
       "      <td>3</td>\n",
       "      <td>6001</td>\n",
       "      <td>0.15629</td>\n",
       "      <td>NaN</td>\n",
       "      <td>Completed</td>\n",
       "      <td>3250.000000</td>\n",
       "      <td>False</td>\n",
       "      <td>2000.0</td>\n",
       "      <td>1702.14</td>\n",
       "    </tr>\n",
       "    <tr>\n",
       "      <th>113915</th>\n",
       "      <td>D2053427325575423785798</td>\n",
       "      <td>2008-07-29 05:22:29.390000000</td>\n",
       "      <td>2008-08-06 00:00:00</td>\n",
       "      <td>2008-07-23 07:48:01.427000000</td>\n",
       "      <td>NaN</td>\n",
       "      <td>36</td>\n",
       "      <td>7</td>\n",
       "      <td>3000</td>\n",
       "      <td>0.22237</td>\n",
       "      <td>NaN</td>\n",
       "      <td>Completed</td>\n",
       "      <td>4416.666667</td>\n",
       "      <td>True</td>\n",
       "      <td>6001.0</td>\n",
       "      <td>0.00</td>\n",
       "    </tr>\n",
       "    <tr>\n",
       "      <th>113927</th>\n",
       "      <td>E3433419834735803891976</td>\n",
       "      <td>2008-04-30 21:25:19.670000000</td>\n",
       "      <td>2008-05-09 00:00:00</td>\n",
       "      <td>2008-04-30 21:20:54.587000000</td>\n",
       "      <td>NaN</td>\n",
       "      <td>36</td>\n",
       "      <td>4</td>\n",
       "      <td>4292</td>\n",
       "      <td>0.07469</td>\n",
       "      <td>NaN</td>\n",
       "      <td>Completed</td>\n",
       "      <td>10333.333333</td>\n",
       "      <td>True</td>\n",
       "      <td>1000.0</td>\n",
       "      <td>847.61</td>\n",
       "    </tr>\n",
       "  </tbody>\n",
       "</table>\n",
       "<p>2288 rows × 15 columns</p>\n",
       "</div>"
      ],
      "text/plain": [
       "                     ListingKey            ListingCreationDate  \\\n",
       "46      0F8B34281015537050D4FEC  2008-08-05 19:42:49.197000000   \n",
       "78      0DFE3425061927556BB8A75  2008-06-29 23:23:40.157000000   \n",
       "101     0F6A3407615179140F880BF            2007-12-23 12:09:24   \n",
       "127     10F83416199324455232962  2008-03-13 12:04:51.623000000   \n",
       "150     10683423770994576084943  2008-06-12 11:59:55.217000000   \n",
       "201     10E533983959116999E3768  2007-08-30 20:56:07.907000000   \n",
       "241     2EBC3426392173872AC3827  2008-07-06 11:49:51.040000000   \n",
       "421     31773411053375955CA3F3E  2008-01-18 15:07:50.917000000   \n",
       "443     09B334070789257072E536C  2007-11-29 16:15:27.480000000   \n",
       "521     321E340424193323634BB93  2007-11-14 19:33:38.060000000   \n",
       "528     3BBA345088754410516372A  2009-04-28 14:08:57.100000000   \n",
       "582     459D3418266771185D80EBB  2008-04-05 13:39:53.270000000   \n",
       "725     0A333418840357177C59FEC  2008-04-27 19:21:57.207000000   \n",
       "781     31803417032608077E3BF2D  2008-04-06 00:06:46.820000000   \n",
       "795     00F0343244233918981458D  2008-09-14 13:41:52.210000000   \n",
       "796     028C341369191670823894C  2008-03-03 11:25:13.360000000   \n",
       "927     3E393418801908904F734EB  2008-04-16 11:17:01.527000000   \n",
       "962     32763431438264028DA5E86  2008-09-13 11:51:40.320000000   \n",
       "1004    2E1E341339094190219FF44  2008-02-20 10:46:38.547000000   \n",
       "1005    2E29341833986637037BD06  2008-04-05 10:19:03.943000000   \n",
       "1076    0A623425302359416A5D971  2008-07-13 08:48:40.583000000   \n",
       "1096    2EDA341431574446356C8B5  2008-03-07 10:32:50.363000000   \n",
       "1134    2EF13421061165476DDF730  2008-05-04 17:23:35.570000000   \n",
       "1142    026A3430080076772A0C8EF  2008-08-19 07:33:48.420000000   \n",
       "1162    09D9342016981978829A48A  2008-05-06 13:43:57.777000000   \n",
       "1202    3769342939275188913D6F5  2008-08-17 21:09:08.673000000   \n",
       "1608    31233426635894494168E7E  2008-07-16 14:12:04.593000000   \n",
       "1626    031434246499496673A8C83  2008-07-04 18:00:51.063000000   \n",
       "1670    032434101476267742121AD  2007-12-31 09:18:26.250000000   \n",
       "1711    3A0233988604843152E9294  2007-09-10 11:11:24.017000000   \n",
       "...                         ...                            ...   \n",
       "112236  F33F3430127682069FD82FD  2008-09-08 08:07:16.863000000   \n",
       "112265  D7B43427505364977E574C3  2008-08-10 09:01:54.130000000   \n",
       "112315  C4A134204666711188C783A  2008-05-12 12:13:19.930000000   \n",
       "112383  D1F434206040633271E493A  2008-05-05 11:14:12.510000000   \n",
       "112401  BE2C3405676093406D84C68  2007-11-30 19:07:09.933000000   \n",
       "112422  F7AE342710917013738786C  2008-08-04 17:56:20.023000000   \n",
       "112523  FA0E3407513388318608A6A  2007-12-07 10:14:35.090000000   \n",
       "112712  E2CD341127391966656EBA3  2008-01-17 10:03:22.690000000   \n",
       "112878  D2863409195999444F73882  2007-12-21 08:29:39.673000000   \n",
       "112937  E7563409955413607F68B2E  2008-01-13 17:40:23.587000000   \n",
       "112999  E7F03414156541809421D61  2008-02-26 05:22:36.457000000   \n",
       "113022  D5703397897023536DDCF24  2007-08-26 19:41:33.630000000   \n",
       "113026  D5A434268713779195A9BBA  2008-07-23 16:28:02.330000000   \n",
       "113147  EE0D342107928745194F1D8  2008-05-22 13:44:41.163000000   \n",
       "113169  D9523409032526351D454D9  2007-12-22 15:52:29.270000000   \n",
       "113188  EE1A34125451750825EF226  2008-02-14 14:21:19.103000000   \n",
       "113203  DBD634233093282919FB65B  2008-06-17 07:57:30.550000000   \n",
       "113205  DBE23429969308690638BCB  2008-08-19 15:58:02.360000000   \n",
       "113425  D7093426345724019AA5767  2008-07-20 20:27:03.317000000   \n",
       "113458  E26A342066347518388FAAE  2008-05-03 17:08:28.200000000   \n",
       "113479  F6773410347960189D25F0E  2008-01-02 05:33:38.063000000   \n",
       "113485  DA153422134287105784C7D  2008-05-29 19:20:20.503000000   \n",
       "113517  F6B434235328414801924AE  2008-06-10 16:37:31.540000000   \n",
       "113678  FD9A3416215762467E1A5A5  2008-03-16 16:48:27.613000000   \n",
       "113785  CF5E3421929977128B83CE2  2008-05-21 12:22:43.767000000   \n",
       "113803  DEA93427782854712C73CB8  2008-08-01 01:42:00.820000000   \n",
       "113804  DEB2341377319696802F2FD  2008-02-16 19:23:45.313000000   \n",
       "113843  DF1B34173558923433980EF  2008-04-08 18:49:03.347000000   \n",
       "113915  D2053427325575423785798  2008-07-29 05:22:29.390000000   \n",
       "113927  E3433419834735803891976  2008-04-30 21:25:19.670000000   \n",
       "\n",
       "        LoanOriginationDate               DateCreditPulled ProsperRating  \\\n",
       "46      2008-08-15 00:00:00  2008-08-05 19:36:35.233000000           NaN   \n",
       "78      2008-07-08 00:00:00  2008-06-29 23:13:04.860000000           NaN   \n",
       "101     2008-01-08 00:00:00  2007-12-23 11:58:02.563000000           NaN   \n",
       "127     2008-03-21 00:00:00  2008-03-11 11:47:42.457000000           NaN   \n",
       "150     2010-05-19 00:00:00            2010-05-07 09:12:07           NaN   \n",
       "201     2007-09-13 00:00:00  2007-08-19 08:47:21.187000000           NaN   \n",
       "241     2008-07-08 00:00:00  2008-07-06 11:28:34.030000000           NaN   \n",
       "421     2008-02-04 00:00:00  2008-01-10 13:00:54.947000000           NaN   \n",
       "443     2007-12-12 00:00:00  2007-11-29 16:01:10.660000000           NaN   \n",
       "521     2007-11-21 00:00:00  2007-11-14 19:26:23.147000000           NaN   \n",
       "528     2010-04-29 00:00:00            2010-04-16 02:06:58           NaN   \n",
       "582     2008-04-14 00:00:00  2008-03-30 05:35:52.787000000           NaN   \n",
       "725     2009-11-12 00:00:00            2009-10-22 11:37:32           NaN   \n",
       "781     2008-04-10 00:00:00  2008-04-03 23:58:34.053000000           NaN   \n",
       "795     2008-09-23 00:00:00  2008-09-14 13:41:33.707000000           NaN   \n",
       "796     2008-03-12 00:00:00  2008-03-03 11:21:42.397000000           NaN   \n",
       "927     2008-04-24 00:00:00  2008-04-16 10:00:00.017000000           NaN   \n",
       "962     2008-09-26 00:00:00  2008-08-16 11:18:30.800000000           NaN   \n",
       "1004    2008-02-26 00:00:00  2008-02-19 11:57:36.860000000           NaN   \n",
       "1005    2008-04-14 00:00:00  2008-04-05 10:07:42.637000000           NaN   \n",
       "1076    2008-07-23 00:00:00  2008-07-13 08:39:20.973000000           NaN   \n",
       "1096    2008-03-14 00:00:00  2008-02-22 11:51:57.707000000           NaN   \n",
       "1134    2008-05-14 00:00:00  2008-04-23 13:19:45.620000000           NaN   \n",
       "1142    2008-09-03 00:00:00  2008-08-19 07:33:03.637000000           NaN   \n",
       "1162    2008-05-20 00:00:00  2008-04-23 13:10:27.207000000           NaN   \n",
       "1202    2008-09-23 00:00:00  2008-08-17 21:09:02.957000000           NaN   \n",
       "1608    2008-07-24 00:00:00  2008-06-29 10:17:51.710000000           NaN   \n",
       "1626    2008-07-17 00:00:00  2008-07-04 17:56:31.603000000           NaN   \n",
       "1670    2008-01-14 00:00:00  2007-12-27 09:46:14.923000000           NaN   \n",
       "1711    2007-09-24 00:00:00  2007-09-10 10:57:20.480000000           NaN   \n",
       "...                     ...                            ...           ...   \n",
       "112236  2008-09-15 00:00:00  2008-09-08 08:06:34.283000000           NaN   \n",
       "112265  2008-08-20 00:00:00  2008-07-13 14:13:33.960000000           NaN   \n",
       "112315  2008-05-21 00:00:00  2008-05-12 11:56:00.810000000           NaN   \n",
       "112383  2008-05-16 00:00:00  2008-04-27 13:25:10.680000000           NaN   \n",
       "112401  2007-12-11 00:00:00  2007-11-30 18:20:40.687000000           NaN   \n",
       "112422  2008-08-07 00:00:00  2008-07-14 09:53:00.677000000           NaN   \n",
       "112523  2007-12-18 00:00:00  2007-11-29 11:04:49.200000000           NaN   \n",
       "112712  2008-01-23 00:00:00  2007-12-27 14:16:37.497000000           NaN   \n",
       "112878  2008-01-02 00:00:00  2007-12-17 08:51:33.423000000           NaN   \n",
       "112937  2008-01-25 00:00:00  2008-01-14 10:28:42.033000000           NaN   \n",
       "112999  2008-03-11 00:00:00  2008-02-26 05:15:28.200000000           NaN   \n",
       "113022  2007-09-05 00:00:00  2007-08-26 19:26:50.237000000           NaN   \n",
       "113026  2008-08-05 00:00:00  2008-07-23 16:20:50.600000000           NaN   \n",
       "113147  2008-05-30 00:00:00  2008-05-13 14:10:58.270000000           NaN   \n",
       "113169  2007-12-31 00:00:00  2007-12-22 15:47:07.920000000           NaN   \n",
       "113188  2008-02-20 00:00:00  2008-02-14 10:25:33.737000000           NaN   \n",
       "113203  2008-06-25 00:00:00  2008-06-17 07:03:52.283000000           NaN   \n",
       "113205  2008-08-28 00:00:00  2008-08-05 15:20:15.323000000           NaN   \n",
       "113425  2008-07-29 00:00:00  2008-07-18 20:04:46.423000000           NaN   \n",
       "113458  2008-05-06 00:00:00  2008-05-03 17:03:43.837000000           NaN   \n",
       "113479  2008-01-10 00:00:00  2007-12-19 11:57:17.213000000           NaN   \n",
       "113485  2008-06-09 00:00:00  2008-05-29 18:27:16.033000000           NaN   \n",
       "113517  2008-06-19 00:00:00  2008-06-03 16:07:24.290000000           NaN   \n",
       "113678  2008-03-28 00:00:00  2008-03-16 16:45:18.020000000           NaN   \n",
       "113785  2008-05-28 00:00:00  2008-05-13 22:06:38.203000000           NaN   \n",
       "113803  2008-08-12 00:00:00  2008-08-01 01:40:12.270000000           NaN   \n",
       "113804  2008-02-26 00:00:00  2008-01-20 19:49:32.797000000           NaN   \n",
       "113843  2008-04-15 00:00:00  2008-04-07 19:37:12.623000000           NaN   \n",
       "113915  2008-08-06 00:00:00  2008-07-23 07:48:01.427000000           NaN   \n",
       "113927  2008-05-09 00:00:00  2008-04-30 21:20:54.587000000           NaN   \n",
       "\n",
       "        Term  ListingCategory  LoanOriginalAmount  BorrowerAPR  \\\n",
       "46        36                1                4000      0.17170   \n",
       "78        36                3                4800      0.18454   \n",
       "101       36                1                2932      0.20421   \n",
       "127       36                1                2551      0.29743   \n",
       "150       36                7                6500      0.08641   \n",
       "201       36                0               20000      0.15713   \n",
       "241       36                7                1100      0.37453   \n",
       "421       36                4                1000      0.24264   \n",
       "443       36                0                3750      0.10190   \n",
       "521       36                0                5000      0.17420   \n",
       "528       36                1               10000      0.17170   \n",
       "582       36                1                2551      0.24218   \n",
       "725       36                1                2348      0.10082   \n",
       "781       36                3                1800      0.15863   \n",
       "795       36                7               10000      0.14621   \n",
       "796       36                1                2500      0.12201   \n",
       "927       36                4                3000      0.10739   \n",
       "962       36                1               14000      0.17445   \n",
       "1004      36                1                1500      0.26292   \n",
       "1005      36                4                6001      0.15793   \n",
       "1076      36                1                4000      0.19146   \n",
       "1096      36                3                7400      0.11034   \n",
       "1134      36                2                4000      0.18112   \n",
       "1142      36                6                3300      0.15428   \n",
       "1162      36                4                2000      0.17981   \n",
       "1202      36                5                2500      0.29334   \n",
       "1608      36                3                3500      0.23757   \n",
       "1626      36                1                5000      0.27346   \n",
       "1670      36                7                3500      0.28771   \n",
       "1711      36                0               24999      0.10140   \n",
       "...      ...              ...                 ...          ...   \n",
       "112236    36                1                6500      0.37453   \n",
       "112265    36                7                3500      0.25278   \n",
       "112315    36                1               13800      0.26434   \n",
       "112383    36                3                7500      0.15522   \n",
       "112401    36                0                4000      0.22432   \n",
       "112422    36                7                5900      0.37453   \n",
       "112523    36                3                3100      0.35805   \n",
       "112712    36                3                2850      0.25517   \n",
       "112878    36                4                1500      0.36623   \n",
       "112937    36                1                1200      0.23635   \n",
       "112999    36                1                6000      0.24264   \n",
       "113022    36                0                1000      0.08708   \n",
       "113026    36                7                1200      0.19652   \n",
       "113147    36                2                6500      0.31353   \n",
       "113169    36                4                1500      0.14683   \n",
       "113188    36                3                6000      0.16941   \n",
       "113203    36                3                5000      0.19190   \n",
       "113205    36                1                6000      0.35717   \n",
       "113425    36                5               15000      0.18302   \n",
       "113458    36                5                1000      0.21020   \n",
       "113479    36                1                3500      0.27535   \n",
       "113485    36                4                6000      0.18756   \n",
       "113517    36                1               10000      0.20582   \n",
       "113678    36                1                6000      0.12562   \n",
       "113785    36                1                3000      0.32368   \n",
       "113803    36                7                5000      0.11293   \n",
       "113804    36                1                5000      0.26140   \n",
       "113843    36                3                6001      0.15629   \n",
       "113915    36                7                3000      0.22237   \n",
       "113927    36                4                4292      0.07469   \n",
       "\n",
       "        EstimatedReturn  LoanStatus  StatedMonthlyIncome  IsBorrowerHomeowner  \\\n",
       "46                  NaN   Completed          3166.666667                False   \n",
       "78                  NaN  Chargedoff             0.000000                 True   \n",
       "101                 NaN  Chargedoff          7416.666667                 True   \n",
       "127                 NaN  Chargedoff          2946.666667                False   \n",
       "150                 NaN   Completed          5833.333333                 True   \n",
       "201                 NaN   Completed          6666.666667                False   \n",
       "241                 NaN   Completed          2702.916667                False   \n",
       "421                 NaN   Completed          5865.000000                False   \n",
       "443                 NaN   Completed          2166.666667                False   \n",
       "521                 NaN   Completed         30166.666667                 True   \n",
       "528                 NaN   Completed          2166.666667                 True   \n",
       "582                 NaN   Completed          2916.666667                 True   \n",
       "725                 NaN   Completed          1400.000000                False   \n",
       "781                 NaN   Completed          2211.166667                False   \n",
       "795                 NaN   Completed          3433.333333                 True   \n",
       "796                 NaN   Completed          6711.000000                 True   \n",
       "927                 NaN   Completed          2416.666667                 True   \n",
       "962                 NaN   Defaulted         10833.333333                 True   \n",
       "1004                NaN   Defaulted          2833.333333                False   \n",
       "1005                NaN   Completed          5833.333333                False   \n",
       "1076                NaN  Chargedoff         12083.333333                 True   \n",
       "1096                NaN  Chargedoff         13333.333333                 True   \n",
       "1134                NaN   Defaulted          4583.333333                 True   \n",
       "1142                NaN   Completed          5000.000000                 True   \n",
       "1162                NaN  Chargedoff          5500.000000                False   \n",
       "1202                NaN   Completed          3500.000000                False   \n",
       "1608                NaN  Chargedoff          2160.000000                 True   \n",
       "1626                NaN   Completed          7083.333333                 True   \n",
       "1670                NaN   Completed          8750.000000                 True   \n",
       "1711                NaN   Completed         20427.000000                 True   \n",
       "...                 ...         ...                  ...                  ...   \n",
       "112236              NaN   Completed          9583.333333                 True   \n",
       "112265              NaN   Completed          3333.333333                 True   \n",
       "112315              NaN   Completed          3166.666667                False   \n",
       "112383              NaN   Defaulted             0.000000                 True   \n",
       "112401              NaN  Chargedoff          2166.666667                False   \n",
       "112422              NaN   Defaulted          7083.333333                False   \n",
       "112523              NaN   Completed          5083.333333                 True   \n",
       "112712              NaN  Chargedoff             0.083333                False   \n",
       "112878              NaN   Completed          3750.000000                 True   \n",
       "112937              NaN   Completed          4041.666667                 True   \n",
       "112999              NaN   Completed          3666.666667                 True   \n",
       "113022              NaN   Completed          4052.000000                 True   \n",
       "113026              NaN   Completed          2916.666667                False   \n",
       "113147              NaN  Chargedoff          3750.000000                 True   \n",
       "113169              NaN   Completed          5597.583333                False   \n",
       "113188              NaN   Completed          3750.000000                 True   \n",
       "113203              NaN   Defaulted          6583.333333                 True   \n",
       "113205              NaN  Chargedoff          5827.583333                False   \n",
       "113425              NaN   Completed          4750.000000                 True   \n",
       "113458              NaN   Completed          7083.333333                 True   \n",
       "113479              NaN   Completed          5250.000000                False   \n",
       "113485              NaN   Completed             0.000000                 True   \n",
       "113517              NaN   Defaulted          4000.000000                 True   \n",
       "113678              NaN   Completed          2166.666667                 True   \n",
       "113785              NaN  Chargedoff          4491.666667                False   \n",
       "113803              NaN   Defaulted             0.000000                 True   \n",
       "113804              NaN   Completed         13333.333333                False   \n",
       "113843              NaN   Completed          3250.000000                False   \n",
       "113915              NaN   Completed          4416.666667                 True   \n",
       "113927              NaN   Completed         10333.333333                 True   \n",
       "\n",
       "        ProsperPrincipalBorrowed  ProsperPrincipalOutstanding  \n",
       "46                        6000.0                      4317.11  \n",
       "78                        7750.0                      6725.84  \n",
       "101                      25000.0                     21862.26  \n",
       "127                       5550.0                      2331.40  \n",
       "150                      17500.0                         0.02  \n",
       "201                      10000.0                         0.00  \n",
       "241                       1000.0                       555.68  \n",
       "421                       3000.0                      2514.71  \n",
       "443                       2550.0                      1724.48  \n",
       "521                      25000.0                     19746.79  \n",
       "528                       7500.0                         0.00  \n",
       "582                      12551.0                         0.00  \n",
       "725                       5000.0                      1689.63  \n",
       "781                       5800.0                      5076.21  \n",
       "795                      12000.0                      8919.77  \n",
       "796                      10000.0                      6567.02  \n",
       "927                       2000.0                       488.63  \n",
       "962                       3500.0                      2059.30  \n",
       "1004                      2600.0                      2287.03  \n",
       "1005                      6001.0                      4645.23  \n",
       "1076                      2900.0                      1430.70  \n",
       "1096                     25000.0                     17392.04  \n",
       "1134                      2500.0                      1462.62  \n",
       "1142                      7100.0                      5580.10  \n",
       "1162                      6001.0                      2452.20  \n",
       "1202                      6500.0                         0.00  \n",
       "1608                     10101.0                      7721.12  \n",
       "1626                      2000.0                         0.00  \n",
       "1670                      4000.0                      3407.21  \n",
       "1711                     30000.0                         0.00  \n",
       "...                          ...                          ...  \n",
       "112236                    2000.0                         0.00  \n",
       "112265                    3000.0                      2099.01  \n",
       "112315                    2500.0                         0.00  \n",
       "112383                    2500.0                         0.00  \n",
       "112401                    1200.0                       917.84  \n",
       "112422                    4000.0                      1537.90  \n",
       "112523                    3500.0                      2640.17  \n",
       "112712                    4800.0                      3957.83  \n",
       "112878                    3000.0                      1961.05  \n",
       "112937                    2500.0                      2044.35  \n",
       "112999                    3001.0                       544.92  \n",
       "113022                    1000.0                         0.00  \n",
       "113026                    3001.0                      1661.88  \n",
       "113147                   16000.0                     12717.62  \n",
       "113169                    2000.0                         0.00  \n",
       "113188                   15000.0                     12916.48  \n",
       "113203                    3001.0                         0.00  \n",
       "113205                    5450.0                         0.00  \n",
       "113425                   10000.0                         0.00  \n",
       "113458                    5000.0                      2942.70  \n",
       "113479                    3500.0                      2802.46  \n",
       "113485                   10000.0                      7768.47  \n",
       "113517                    5000.0                      1384.38  \n",
       "113678                    8000.0                      6833.96  \n",
       "113785                    1000.0                       639.32  \n",
       "113803                    1000.0                       724.82  \n",
       "113804                    5000.0                      4336.45  \n",
       "113843                    2000.0                      1702.14  \n",
       "113915                    6001.0                         0.00  \n",
       "113927                    1000.0                       847.61  \n",
       "\n",
       "[2288 rows x 15 columns]"
      ]
     },
     "execution_count": 11,
     "metadata": {},
     "output_type": "execute_result"
    }
   ],
   "source": [
    "loans[(loans[\"ProsperRating\"].isnull()) & (loans[\"ProsperPrincipalBorrowed\"].notnull())]"
   ]
  },
  {
   "cell_type": "code",
   "execution_count": 12,
   "metadata": {
    "slideshow": {
     "slide_type": "skip"
    }
   },
   "outputs": [
    {
     "data": {
      "text/plain": [
       "Current                   56576\n",
       "Completed                 38074\n",
       "Chargedoff                11992\n",
       "Defaulted                  5018\n",
       "Past Due (1-15 days)        806\n",
       "Past Due (31-60 days)       363\n",
       "Past Due (61-90 days)       313\n",
       "Past Due (91-120 days)      304\n",
       "Past Due (16-30 days)       265\n",
       "FinalPaymentInProgress      205\n",
       "Past Due (>120 days)         16\n",
       "Cancelled                     5\n",
       "Name: LoanStatus, dtype: int64"
      ]
     },
     "execution_count": 12,
     "metadata": {},
     "output_type": "execute_result"
    }
   ],
   "source": [
    "df.LoanStatus.value_counts()"
   ]
  },
  {
   "cell_type": "markdown",
   "metadata": {
    "slideshow": {
     "slide_type": "skip"
    }
   },
   "source": [
    "### <font color=#ff0096>Quality issues</font>\n",
    "- ListingCreationDate, LoanCreationDate and CreditLinePulled to datetime objects"
   ]
  },
  {
   "cell_type": "markdown",
   "metadata": {
    "slideshow": {
     "slide_type": "skip"
    }
   },
   "source": [
    "## <font color=#b30069> Cleaning </font>"
   ]
  },
  {
   "cell_type": "markdown",
   "metadata": {
    "slideshow": {
     "slide_type": "skip"
    }
   },
   "source": [
    "**Define**"
   ]
  },
  {
   "cell_type": "markdown",
   "metadata": {
    "slideshow": {
     "slide_type": "skip"
    }
   },
   "source": [
    "Truncate long strings and convert to datetie using strptime"
   ]
  },
  {
   "cell_type": "markdown",
   "metadata": {
    "slideshow": {
     "slide_type": "skip"
    }
   },
   "source": [
    "**Code**"
   ]
  },
  {
   "cell_type": "code",
   "execution_count": 13,
   "metadata": {
    "collapsed": true,
    "slideshow": {
     "slide_type": "skip"
    }
   },
   "outputs": [],
   "source": [
    "loans2 = loans.copy()"
   ]
  },
  {
   "cell_type": "code",
   "execution_count": 14,
   "metadata": {
    "slideshow": {
     "slide_type": "skip"
    }
   },
   "outputs": [
    {
     "data": {
      "text/plain": [
       "0    2007-08-26 19:09:29.263000000\n",
       "1    2014-02-27 08:28:07.900000000\n",
       "2    2007-01-05 15:00:47.090000000\n",
       "3    2012-10-22 11:02:35.010000000\n",
       "4    2013-09-14 18:38:39.097000000\n",
       "Name: ListingCreationDate, dtype: object"
      ]
     },
     "execution_count": 14,
     "metadata": {},
     "output_type": "execute_result"
    }
   ],
   "source": [
    "loans2[\"ListingCreationDate\"].head()"
   ]
  },
  {
   "cell_type": "code",
   "execution_count": 15,
   "metadata": {
    "collapsed": true,
    "slideshow": {
     "slide_type": "skip"
    }
   },
   "outputs": [],
   "source": [
    "def truncate_extra(row):\n",
    "    if len(row.ListingCreationDate)==29:\n",
    "        return row.ListingCreationDate[:-10]\n",
    "    else:\n",
    "        return row.ListingCreationDate"
   ]
  },
  {
   "cell_type": "code",
   "execution_count": 16,
   "metadata": {
    "slideshow": {
     "slide_type": "skip"
    }
   },
   "outputs": [
    {
     "data": {
      "text/html": [
       "<div>\n",
       "<style>\n",
       "    .dataframe thead tr:only-child th {\n",
       "        text-align: right;\n",
       "    }\n",
       "\n",
       "    .dataframe thead th {\n",
       "        text-align: left;\n",
       "    }\n",
       "\n",
       "    .dataframe tbody tr th {\n",
       "        vertical-align: top;\n",
       "    }\n",
       "</style>\n",
       "<table border=\"1\" class=\"dataframe\">\n",
       "  <thead>\n",
       "    <tr style=\"text-align: right;\">\n",
       "      <th></th>\n",
       "      <th>ListingKey</th>\n",
       "      <th>ListingCreationDate</th>\n",
       "      <th>LoanOriginationDate</th>\n",
       "      <th>DateCreditPulled</th>\n",
       "      <th>ProsperRating</th>\n",
       "      <th>Term</th>\n",
       "      <th>ListingCategory</th>\n",
       "      <th>LoanOriginalAmount</th>\n",
       "      <th>BorrowerAPR</th>\n",
       "      <th>EstimatedReturn</th>\n",
       "      <th>LoanStatus</th>\n",
       "      <th>StatedMonthlyIncome</th>\n",
       "      <th>IsBorrowerHomeowner</th>\n",
       "      <th>ProsperPrincipalBorrowed</th>\n",
       "      <th>ProsperPrincipalOutstanding</th>\n",
       "    </tr>\n",
       "  </thead>\n",
       "  <tbody>\n",
       "  </tbody>\n",
       "</table>\n",
       "</div>"
      ],
      "text/plain": [
       "Empty DataFrame\n",
       "Columns: [ListingKey, ListingCreationDate, LoanOriginationDate, DateCreditPulled, ProsperRating, Term, ListingCategory, LoanOriginalAmount, BorrowerAPR, EstimatedReturn, LoanStatus, StatedMonthlyIncome, IsBorrowerHomeowner, ProsperPrincipalBorrowed, ProsperPrincipalOutstanding]\n",
       "Index: []"
      ]
     },
     "execution_count": 16,
     "metadata": {},
     "output_type": "execute_result"
    }
   ],
   "source": [
    "#Since this is empty, we have successfully truncated our strings\n",
    "loans2.ListingCreationDate = loans2.apply(truncate_extra,axis=1)\n",
    "loans2[loans2.ListingCreationDate.str.len()!=19]"
   ]
  },
  {
   "cell_type": "code",
   "execution_count": 17,
   "metadata": {
    "collapsed": true,
    "slideshow": {
     "slide_type": "skip"
    }
   },
   "outputs": [],
   "source": [
    "loans2[loans2.ListingCreationDate.str.len()!=19]['ListingCreationDate']\n",
    "loans2.ListingCreationDate = loans2.ListingCreationDate.apply(lambda x: datetime.datetime.strptime(x, \"%Y-%m-%d %H:%M:%S\"))"
   ]
  },
  {
   "cell_type": "markdown",
   "metadata": {
    "slideshow": {
     "slide_type": "skip"
    }
   },
   "source": [
    "**Define**"
   ]
  },
  {
   "cell_type": "markdown",
   "metadata": {
    "slideshow": {
     "slide_type": "skip"
    }
   },
   "source": [
    "Boolean index columns after July 2009 and store in post_july."
   ]
  },
  {
   "cell_type": "markdown",
   "metadata": {
    "slideshow": {
     "slide_type": "skip"
    }
   },
   "source": [
    "**Code**"
   ]
  },
  {
   "cell_type": "code",
   "execution_count": 18,
   "metadata": {
    "slideshow": {
     "slide_type": "skip"
    }
   },
   "outputs": [
    {
     "name": "stdout",
     "output_type": "stream",
     "text": [
      "<class 'pandas.core.frame.DataFrame'>\n",
      "Int64Index: 84672 entries, 1 to 113936\n",
      "Data columns (total 15 columns):\n",
      "ListingKey                     84672 non-null object\n",
      "ListingCreationDate            84672 non-null datetime64[ns]\n",
      "LoanOriginationDate            84672 non-null object\n",
      "DateCreditPulled               84672 non-null object\n",
      "ProsperRating                  84672 non-null object\n",
      "Term                           84672 non-null int64\n",
      "ListingCategory                84672 non-null int64\n",
      "LoanOriginalAmount             84672 non-null int64\n",
      "BorrowerAPR                    84672 non-null float64\n",
      "EstimatedReturn                84672 non-null float64\n",
      "LoanStatus                     84672 non-null object\n",
      "StatedMonthlyIncome            84672 non-null float64\n",
      "IsBorrowerHomeowner            84672 non-null bool\n",
      "ProsperPrincipalBorrowed       19682 non-null float64\n",
      "ProsperPrincipalOutstanding    19682 non-null float64\n",
      "dtypes: bool(1), datetime64[ns](1), float64(5), int64(3), object(5)\n",
      "memory usage: 8.2+ MB\n"
     ]
    }
   ],
   "source": [
    "post_july = loans2[loans2.ListingCreationDate.dt.date>datetime.date(2009, 7, 31)]\n",
    "post_july.info()"
   ]
  },
  {
   "cell_type": "markdown",
   "metadata": {
    "slideshow": {
     "slide_type": "skip"
    }
   },
   "source": [
    "## <font color=#b30069> Exploratory Analysis </font>"
   ]
  },
  {
   "cell_type": "markdown",
   "metadata": {
    "slideshow": {
     "slide_type": "skip"
    }
   },
   "source": [
    "### <font color=#ff0096>Univariate Exploration</font>"
   ]
  },
  {
   "cell_type": "code",
   "execution_count": 19,
   "metadata": {
    "slideshow": {
     "slide_type": "skip"
    }
   },
   "outputs": [
    {
     "name": "stderr",
     "output_type": "stream",
     "text": [
      "C:\\Users\\Jovan\\Anaconda3\\lib\\site-packages\\ipykernel\\__main__.py:1: UserWarning: Boolean Series key will be reindexed to match DataFrame index.\n",
      "  if __name__ == '__main__':\n"
     ]
    },
    {
     "data": {
      "image/png": "[encoded data removed]",
      "text/plain": [
       "<matplotlib.figure.Figure at 0xa337ff0>"
      ]
     },
     "metadata": {},
     "output_type": "display_data"
    }
   ],
   "source": [
    "temp = post_july[loans2.ListingCreationDate.dt.date>datetime.date(2009, 7, 31)].ProsperRating\n",
    "plt.bar(temp.value_counts().index,temp.value_counts());"
   ]
  },
  {
   "cell_type": "code",
   "execution_count": 20,
   "metadata": {
    "scrolled": true,
    "slideshow": {
     "slide_type": "skip"
    }
   },
   "outputs": [
    {
     "data": {
      "image/png": "[encoded data removed]",
      "text/plain": [
       "<matplotlib.figure.Figure at 0x39e3970>"
      ]
     },
     "metadata": {},
     "output_type": "display_data"
    }
   ],
   "source": [
    "bin_edges=np.arange(0,max(post_july[\"EstimatedReturn\"].dropna())+0.01,0.01)\n",
    "plt.hist(post_july[\"EstimatedReturn\"].dropna(), bins = bin_edges, color = '#00998c');"
   ]
  },
  {
   "cell_type": "code",
   "execution_count": 21,
   "metadata": {
    "slideshow": {
     "slide_type": "skip"
    }
   },
   "outputs": [
    {
     "data": {
      "image/png": "[encoded data removed]",
      "text/plain": [
       "<matplotlib.figure.Figure at 0xba35b90>"
      ]
     },
     "metadata": {},
     "output_type": "display_data"
    }
   ],
   "source": [
    "bin_edges=np.arange(0,max(post_july[\"BorrowerAPR\"])+0.05,0.05)\n",
    "plt.hist(post_july[\"BorrowerAPR\"], bins=bin_edges, color = '#00998c');"
   ]
  },
  {
   "cell_type": "markdown",
   "metadata": {
    "slideshow": {
     "slide_type": "skip"
    }
   },
   "source": [
    "### Wealth Distribution"
   ]
  },
  {
   "cell_type": "code",
   "execution_count": 22,
   "metadata": {
    "collapsed": true,
    "slideshow": {
     "slide_type": "skip"
    }
   },
   "outputs": [],
   "source": [
    "stated_income = post_july[post_july[\"StatedMonthlyIncome\"]!=0]"
   ]
  },
  {
   "cell_type": "code",
   "execution_count": 23,
   "metadata": {
    "slideshow": {
     "slide_type": "skip"
    }
   },
   "outputs": [
    {
     "data": {
      "text/plain": [
       "count    8.398300e+04\n",
       "mean     5.982130e+03\n",
       "std      8.263893e+03\n",
       "min      8.333300e-02\n",
       "25%      3.500000e+03\n",
       "50%      5.000000e+03\n",
       "75%      7.122167e+03\n",
       "max      1.750003e+06\n",
       "Name: StatedMonthlyIncome, dtype: float64"
      ]
     },
     "execution_count": 23,
     "metadata": {},
     "output_type": "execute_result"
    }
   ],
   "source": [
    "stated_income[\"StatedMonthlyIncome\"].describe()"
   ]
  },
  {
   "cell_type": "code",
   "execution_count": 24,
   "metadata": {
    "collapsed": true,
    "slideshow": {
     "slide_type": "skip"
    }
   },
   "outputs": [],
   "source": [
    "def classify(row):\n",
    "    if row[\"StatedMonthlyIncome\"]<2500:\n",
    "        return 'Low'\n",
    "    if row[\"StatedMonthlyIncome\"]<8000:\n",
    "        return 'Medium'\n",
    "    else:\n",
    "        return 'High'"
   ]
  },
  {
   "cell_type": "code",
   "execution_count": 25,
   "metadata": {
    "slideshow": {
     "slide_type": "skip"
    }
   },
   "outputs": [
    {
     "name": "stderr",
     "output_type": "stream",
     "text": [
      "C:\\Users\\Jovan\\Anaconda3\\lib\\site-packages\\ipykernel\\__main__.py:1: SettingWithCopyWarning: \n",
      "A value is trying to be set on a copy of a slice from a DataFrame.\n",
      "Try using .loc[row_indexer,col_indexer] = value instead\n",
      "\n",
      "See the caveats in the documentation: http://pandas.pydata.org/pandas-docs/stable/indexing.html#indexing-view-versus-copy\n",
      "  if __name__ == '__main__':\n"
     ]
    }
   ],
   "source": [
    "stated_income[\"WageBracket\"] = stated_income.apply(classify, axis=1);"
   ]
  },
  {
   "cell_type": "code",
   "execution_count": 26,
   "metadata": {
    "slideshow": {
     "slide_type": "skip"
    }
   },
   "outputs": [
    {
     "data": {
      "text/plain": [
       "<Container object of 3 artists>"
      ]
     },
     "execution_count": 26,
     "metadata": {},
     "output_type": "execute_result"
    },
    {
     "data": {
      "image/png": "[encoded data removed]",
      "text/plain": [
       "<matplotlib.figure.Figure at 0x13042e10>"
      ]
     },
     "metadata": {},
     "output_type": "display_data"
    }
   ],
   "source": [
    "plt.bar(stated_income[\"WageBracket\"].value_counts().index,stated_income[\"WageBracket\"].value_counts())"
   ]
  },
  {
   "cell_type": "code",
   "execution_count": 27,
   "metadata": {
    "slideshow": {
     "slide_type": "skip"
    }
   },
   "outputs": [
    {
     "data": {
      "text/plain": [
       "WageBracket\n",
       "High      16328\n",
       "Low        7759\n",
       "Medium    59896\n",
       "dtype: int64"
      ]
     },
     "execution_count": 27,
     "metadata": {},
     "output_type": "execute_result"
    }
   ],
   "source": [
    "stated_income.groupby(\"WageBracket\").size()"
   ]
  },
  {
   "cell_type": "code",
   "execution_count": 28,
   "metadata": {
    "slideshow": {
     "slide_type": "skip"
    }
   },
   "outputs": [
    {
     "data": {
      "text/plain": [
       "0.7131919555148065"
      ]
     },
     "execution_count": 28,
     "metadata": {},
     "output_type": "execute_result"
    }
   ],
   "source": [
    "59896/(16328 + 7759 + 59896)"
   ]
  },
  {
   "cell_type": "code",
   "execution_count": 29,
   "metadata": {
    "slideshow": {
     "slide_type": "skip"
    }
   },
   "outputs": [
    {
     "data": {
      "image/png": "[encoded data removed]",
      "text/plain": [
       "<matplotlib.figure.Figure at 0x13042fb0>"
      ]
     },
     "metadata": {},
     "output_type": "display_data"
    }
   ],
   "source": [
    "bin_edges=np.arange(-0.2,max(post_july[\"EstimatedReturn\"])+0.1,0.1)\n",
    "plt.hist(post_july[\"EstimatedReturn\"],bins=bin_edges);"
   ]
  },
  {
   "cell_type": "markdown",
   "metadata": {
    "slideshow": {
     "slide_type": "skip"
    }
   },
   "source": [
    "### <font color=#ff0096>Bivariate Exploration</font>"
   ]
  },
  {
   "cell_type": "code",
   "execution_count": 30,
   "metadata": {
    "slideshow": {
     "slide_type": "skip"
    }
   },
   "outputs": [
    {
     "data": {
      "text/plain": [
       "<matplotlib.collections.PathCollection at 0x13071790>"
      ]
     },
     "execution_count": 30,
     "metadata": {},
     "output_type": "execute_result"
    },
    {
     "data": {
      "image/png": "[encoded data removed]",
      "text/plain": [
       "<matplotlib.figure.Figure at 0x130cc390>"
      ]
     },
     "metadata": {},
     "output_type": "display_data"
    }
   ],
   "source": [
    "plt.scatter(post_july[\"Term\"],post_july[\"EstimatedReturn\"])"
   ]
  },
  {
   "cell_type": "code",
   "execution_count": 31,
   "metadata": {
    "slideshow": {
     "slide_type": "skip"
    }
   },
   "outputs": [
    {
     "data": {
      "text/plain": [
       "<matplotlib.collections.PathCollection at 0xba49c70>"
      ]
     },
     "execution_count": 31,
     "metadata": {},
     "output_type": "execute_result"
    },
    {
     "data": {
      "image/png": "[encoded data removed]",
      "text/plain": [
       "<matplotlib.figure.Figure at 0xa8f30f0>"
      ]
     },
     "metadata": {},
     "output_type": "display_data"
    }
   ],
   "source": [
    "plt.scatter(post_july[\"BorrowerAPR\"],post_july[\"EstimatedReturn\"])"
   ]
  },
  {
   "cell_type": "code",
   "execution_count": 32,
   "metadata": {
    "slideshow": {
     "slide_type": "skip"
    }
   },
   "outputs": [
    {
     "data": {
      "text/plain": [
       "0.79512817331498198"
      ]
     },
     "execution_count": 32,
     "metadata": {},
     "output_type": "execute_result"
    }
   ],
   "source": [
    "np.corrcoef(post_july[\"BorrowerAPR\"],post_july[\"EstimatedReturn\"])[1,0]"
   ]
  },
  {
   "cell_type": "code",
   "execution_count": 33,
   "metadata": {
    "slideshow": {
     "slide_type": "skip"
    }
   },
   "outputs": [
    {
     "data": {
      "text/plain": [
       "<matplotlib.axes._subplots.AxesSubplot at 0xba553f0>"
      ]
     },
     "execution_count": 33,
     "metadata": {},
     "output_type": "execute_result"
    },
    {
     "data": {
      "image/png": "[encoded data removed]",
      "text/plain": [
       "<matplotlib.figure.Figure at 0xba078d0>"
      ]
     },
     "metadata": {},
     "output_type": "display_data"
    }
   ],
   "source": [
    "sns.violinplot(data = post_july, x='ProsperRating',y = 'BorrowerAPR', order = ['AA','A','B','C','D','E','HR'])"
   ]
  },
  {
   "cell_type": "code",
   "execution_count": 34,
   "metadata": {
    "slideshow": {
     "slide_type": "skip"
    }
   },
   "outputs": [
    {
     "data": {
      "text/plain": [
       "<matplotlib.axes._subplots.AxesSubplot at 0x1487e050>"
      ]
     },
     "execution_count": 34,
     "metadata": {},
     "output_type": "execute_result"
    },
    {
     "data": {
      "image/png": "[encoded data removed]",
      "text/plain": [
       "<matplotlib.figure.Figure at 0x13069370>"
      ]
     },
     "metadata": {},
     "output_type": "display_data"
    }
   ],
   "source": [
    "sns.boxplot(data = post_july, y='LoanStatus',x = 'BorrowerAPR')"
   ]
  },
  {
   "cell_type": "markdown",
   "metadata": {
    "slideshow": {
     "slide_type": "skip"
    }
   },
   "source": [
    "### <font color=#ff0096>Multivariate Exploration</font>"
   ]
  },
  {
   "cell_type": "code",
   "execution_count": 35,
   "metadata": {
    "slideshow": {
     "slide_type": "skip"
    }
   },
   "outputs": [
    {
     "data": {
      "text/plain": [
       "<matplotlib.legend.Legend at 0xba07f50>"
      ]
     },
     "execution_count": 35,
     "metadata": {},
     "output_type": "execute_result"
    },
    {
     "data": {
      "image/png": "[encoded data removed]",
      "text/plain": [
       "<matplotlib.figure.Figure at 0x13069130>"
      ]
     },
     "metadata": {},
     "output_type": "display_data"
    }
   ],
   "source": [
    "g = sns.FacetGrid(data = post_july, hue = 'ProsperRating', hue_order = ['HR','E','D','C','B','A','AA'], size = 5, aspect = 1.5, palette=\"Spectral\")\n",
    "g.map(sns.regplot,\"BorrowerAPR\", \"EstimatedReturn\", fit_reg = False);\n",
    "plt.legend(loc=1, fontsize = 9)"
   ]
  },
  {
   "cell_type": "code",
   "execution_count": 36,
   "metadata": {
    "collapsed": true,
    "slideshow": {
     "slide_type": "skip"
    }
   },
   "outputs": [],
   "source": [
    "finished_loans = post_july[(post_july[\"LoanStatus\"]==\"Chargedoff\") | (post_july[\"LoanStatus\"]==\"Completed\") | (post_july[\"LoanStatus\"]==\"Defaulted\") | (post_july[\"LoanStatus\"]==\"Chargedoff\") | (post_july[\"LoanStatus\"]==\"FinalPaymentInProgresss\")]"
   ]
  },
  {
   "cell_type": "code",
   "execution_count": 37,
   "metadata": {
    "collapsed": true,
    "slideshow": {
     "slide_type": "skip"
    }
   },
   "outputs": [],
   "source": [
    "denom = finished_loans.groupby(['ListingCategory']).size()"
   ]
  },
  {
   "cell_type": "code",
   "execution_count": 38,
   "metadata": {
    "slideshow": {
     "slide_type": "skip"
    }
   },
   "outputs": [
    {
     "data": {
      "text/plain": [
       "ListingCategory  LoanStatus\n",
       "0                Completed        7\n",
       "1                Chargedoff    2454\n",
       "                 Completed     9667\n",
       "                 Defaulted      524\n",
       "2                Chargedoff     522\n",
       "                 Completed     1985\n",
       "                 Defaulted       87\n",
       "3                Chargedoff     592\n",
       "                 Completed     1654\n",
       "                 Defaulted      108\n",
       "5                Chargedoff      34\n",
       "                 Completed      221\n",
       "                 Defaulted        8\n",
       "6                Chargedoff     211\n",
       "                 Completed      950\n",
       "                 Defaulted       36\n",
       "7                Chargedoff     971\n",
       "                 Completed     3587\n",
       "                 Defaulted      170\n",
       "8                Chargedoff      13\n",
       "                 Completed       27\n",
       "9                Chargedoff       3\n",
       "                 Completed       25\n",
       "10               Chargedoff       9\n",
       "                 Completed       34\n",
       "                 Defaulted        1\n",
       "11               Chargedoff       6\n",
       "                 Completed       57\n",
       "12               Chargedoff       8\n",
       "                 Completed       10\n",
       "                 Defaulted        1\n",
       "13               Chargedoff     203\n",
       "                 Completed      371\n",
       "                 Defaulted       23\n",
       "14               Chargedoff      41\n",
       "                 Completed      135\n",
       "                 Defaulted        5\n",
       "15               Chargedoff     118\n",
       "                 Completed      239\n",
       "                 Defaulted       13\n",
       "16               Chargedoff       6\n",
       "                 Completed       86\n",
       "                 Defaulted        2\n",
       "17               Completed       16\n",
       "                 Defaulted        1\n",
       "18               Chargedoff      48\n",
       "                 Completed      160\n",
       "                 Defaulted        6\n",
       "19               Chargedoff      47\n",
       "                 Completed      145\n",
       "                 Defaulted        6\n",
       "20               Chargedoff      40\n",
       "                 Completed      125\n",
       "                 Defaulted        6\n",
       "dtype: int64"
      ]
     },
     "execution_count": 38,
     "metadata": {},
     "output_type": "execute_result"
    }
   ],
   "source": [
    "finished_loans.groupby([\"ListingCategory\",\"LoanStatus\"]).size()"
   ]
  },
  {
   "cell_type": "code",
   "execution_count": 39,
   "metadata": {
    "collapsed": true,
    "slideshow": {
     "slide_type": "skip"
    }
   },
   "outputs": [],
   "source": [
    "lcounts =  finished_loans.groupby([\"ListingCategory\",\"LoanStatus\"]).size()\n",
    "lprops = lcounts / denom\n",
    "lprops = lprops.reset_index(name='count')\n",
    "lprops = lprops.pivot_table(index='LoanStatus',columns='ListingCategory',values = 'count', fill_value = 0)"
   ]
  },
  {
   "cell_type": "code",
   "execution_count": 40,
   "metadata": {
    "slideshow": {
     "slide_type": "skip"
    }
   },
   "outputs": [
    {
     "data": {
      "text/plain": [
       "<matplotlib.axes._subplots.AxesSubplot at 0x1304e890>"
      ]
     },
     "execution_count": 40,
     "metadata": {},
     "output_type": "execute_result"
    },
    {
     "data": {
      "image/png": "[encoded data removed]",
      "text/plain": [
       "<matplotlib.figure.Figure at 0x1487ea70>"
      ]
     },
     "metadata": {},
     "output_type": "display_data"
    }
   ],
   "source": [
    "fig, ax = plt.subplots(figsize=(15,5))\n",
    "sns.heatmap(lprops, cmap=\"Greens\")"
   ]
  },
  {
   "cell_type": "code",
   "execution_count": 41,
   "metadata": {
    "slideshow": {
     "slide_type": "skip"
    }
   },
   "outputs": [
    {
     "data": {
      "text/plain": [
       "<matplotlib.legend.Legend at 0x1b850570>"
      ]
     },
     "execution_count": 41,
     "metadata": {},
     "output_type": "execute_result"
    },
    {
     "data": {
      "image/png": "[encoded data removed]",
      "text/plain": [
       "<matplotlib.figure.Figure at 0xba3e390>"
      ]
     },
     "metadata": {},
     "output_type": "display_data"
    }
   ],
   "source": [
    "g = sns.FacetGrid(data = post_july, hue = 'LoanStatus', hue_order = ['Completed','Chargedoff','Defaulted'], size = 5, aspect = 1.5, palette=\"viridis\")\n",
    "g.map(sns.regplot,\"Term\", \"EstimatedReturn\", fit_reg = False, x_jitter=True);\n",
    "plt.legend(loc=1, fontsize = 9)\n",
    "#plt.scatter(post_july[\"Term\"],post_july[\"EstimatedReturn\"])"
   ]
  },
  {
   "cell_type": "markdown",
   "metadata": {
    "slideshow": {
     "slide_type": "skip"
    }
   },
   "source": [
    "## <font color=#b30069> Explantory Analysis </font>"
   ]
  },
  {
   "cell_type": "markdown",
   "metadata": {
    "slideshow": {
     "slide_type": "slide"
    }
   },
   "source": [
    "### <font color=#e65f00>What can we expect from prosper?</font>\n",
    "\n",
    "- The **estimated return** is assigned to the listing at the time it was created and is the difference between the Estimated Effective Yield and the Estimated Loss Rate."
   ]
  },
  {
   "cell_type": "code",
   "execution_count": 42,
   "metadata": {
    "slideshow": {
     "slide_type": "fragment"
    }
   },
   "outputs": [
    {
     "data": {
      "image/png": "[encoded data removed]",
      "text/plain": [
       "<matplotlib.figure.Figure at 0x1b662450>"
      ]
     },
     "metadata": {},
     "output_type": "display_data"
    }
   ],
   "source": [
    "fig = plt.figure(figsize = (10,5))\n",
    "ax1 = fig.add_subplot(1,2,1)\n",
    "ax2 = fig.add_subplot(1,2,2)\n",
    "\n",
    "axes = [ax1,ax2]\n",
    "positions=['right','left','top']\n",
    "bin_edges1=np.arange(0,max(post_july[\"BorrowerAPR\"].dropna())+0.01,0.01)\n",
    "ax1.hist(post_july[\"EstimatedReturn\"].dropna(), bins = bin_edges1, color = '#00198e', alpha =0.5);\n",
    "\n",
    "for ax in axes:\n",
    "    ax.tick_params(left = 'off', bottom = 'off')\n",
    "    for pos in positions:\n",
    "        ax.spines[pos].set_visible(False)\n",
    "    ax.set_yticklabels('')\n",
    "\n",
    "ax1.set_title(\"Estimated Return\")\n",
    "ax2.set_title('Borrowing Rates')\n",
    "\n",
    "bin_edges2=np.arange(0,max(post_july[\"BorrowerAPR\"])+0.01,0.01)\n",
    "ax2.hist(post_july[\"BorrowerAPR\"], bins=bin_edges2, color = '#00998c',alpha=0.5);\n"
   ]
  },
  {
   "cell_type": "markdown",
   "metadata": {
    "slideshow": {
     "slide_type": "fragment"
    }
   },
   "source": [
    "Here we see a disparity between the spread of borrowing rates and the spread of returns.\n",
    "As borrowing rates are determined by the riskiness of the investment, it is worthwhile noting the distribution of risk amongst the loans listed. "
   ]
  },
  {
   "cell_type": "markdown",
   "metadata": {
    "slideshow": {
     "slide_type": "slide"
    }
   },
   "source": [
    "### <font color=#e65f00>Who Uses Prosper?</font>"
   ]
  },
  {
   "cell_type": "code",
   "execution_count": 43,
   "metadata": {
    "slideshow": {
     "slide_type": "fragment"
    }
   },
   "outputs": [
    {
     "data": {
      "image/png": "[encoded data removed]",
      "text/plain": [
       "<matplotlib.figure.Figure at 0x1b8632f0>"
      ]
     },
     "metadata": {},
     "output_type": "display_data"
    }
   ],
   "source": [
    "bars= ['AA','B','C','D','E','HR']\n",
    "f, ax = plt.subplots(figsize=(5,5))\n",
    "#ax.bar(x = ticks,height=post_july.groupby(\"ProsperRating\").size().reset_index(name='count')[\"count\"], color='#00698c', alpha=0.5)\n",
    "sns.countplot(data = post_july, x = \"ProsperRating\", color = '#00798c', order = bars, alpha = 0.6)\n",
    "sns.despine(left = True, bottom=True)\n",
    "ax.tick_params(left = 'off', bottom = 'off')\n",
    "ax.set_yticklabels('')\n",
    "ax.set_ylabel('')\n",
    "ax.set_xlabel(\"Rate\")\n",
    "ax.set_title(\"Distribution of Prosper Rating\");"
   ]
  },
  {
   "cell_type": "markdown",
   "metadata": {
    "slideshow": {
     "slide_type": "fragment"
    }
   },
   "source": [
    "Here we see that the distribution of risk follows something of a bell shaped curved. \n",
    "Some additional context could be provided by the fact that about 70% of the listings with reported income have stated that the earn between \\$2500 - $8000 monthly. This suggests that prosper generally attracts middle class borrowers."
   ]
  },
  {
   "cell_type": "markdown",
   "metadata": {
    "slideshow": {
     "slide_type": "slide"
    }
   },
   "source": [
    "### <font color=#e65f00>What Categories are more likely to Default?</font>"
   ]
  },
  {
   "cell_type": "code",
   "execution_count": 44,
   "metadata": {
    "slideshow": {
     "slide_type": "fragment"
    }
   },
   "outputs": [
    {
     "data": {
      "image/png": "[encoded data removed]",
      "text/plain": [
       "<matplotlib.figure.Figure at 0x1b686e70>"
      ]
     },
     "metadata": {},
     "output_type": "display_data"
    }
   ],
   "source": [
    "denom = finished_loans.groupby(['ListingCategory']).size()\n",
    "lcounts =  finished_loans.groupby([\"ListingCategory\",\"LoanStatus\"]).size()\n",
    "lprops = lcounts / denom\n",
    "lprops = lprops.reset_index(name='count')\n",
    "lprops = lprops.pivot_table(index='LoanStatus',columns='ListingCategory',values = 'count', fill_value = 0)\n",
    "lprops.drop([\"Chargedoff\",\"Defaulted\"],inplace=True)\n",
    "fig, ax = plt.subplots(figsize=(12,3))\n",
    "sns.heatmap(lprops, cmap=\"Greens\")\n",
    "ax.tick_params(left = 'off', bottom = 'off')\n",
    "ax.set_title(\"Completion Rate per Category\");"
   ]
  },
  {
   "cell_type": "markdown",
   "metadata": {
    "slideshow": {
     "slide_type": "fragment"
    }
   },
   "source": [
    "- 12: Green loans have the lowest Completion Rate but with 10/18 completions it is difficult to say whether the category is necessarily riskier than the others or whether it was just a new type by 2014.\n",
    "\n",
    "- 16: Motorcylcle loans have a particularly high completion rate with 86/94\n",
    "\n",
    "Overall, we can see that for any category loans are completed more than half the time.\n",
    "\n"
   ]
  },
  {
   "cell_type": "markdown",
   "metadata": {
    "slideshow": {
     "slide_type": "slide"
    }
   },
   "source": [
    "### <font color=#e65f00>How does the length of time affect risk?</font>"
   ]
  },
  {
   "cell_type": "code",
   "execution_count": 47,
   "metadata": {
    "slideshow": {
     "slide_type": "fragment"
    }
   },
   "outputs": [
    {
     "data": {
      "image/png": "[encoded data removed]",
      "text/plain": [
       "<matplotlib.figure.Figure at 0xba7b830>"
      ]
     },
     "metadata": {},
     "output_type": "display_data"
    }
   ],
   "source": [
    "g = sns.FacetGrid(data = post_july, hue = 'LoanStatus', hue_order = ['Completed','Chargedoff','Defaulted'], palette=\"viridis_r\",size = 4 , aspect = 1.5)\n",
    "g.map(sns.regplot,\"Term\", \"EstimatedReturn\", fit_reg = False, x_jitter=True, scatter_kws={'alpha':0.2});\n",
    "plt.legend(loc=1, fontsize = 9)\n",
    "g.set(xticks=np.arange(12,84,24),xticklabels=[\"1 Year\", \"3 Year\", \"5 Year\" ], alpha=0.0000)\n",
    "sns.despine(left=True,bottom=True)"
   ]
  },
  {
   "cell_type": "markdown",
   "metadata": {
    "slideshow": {
     "slide_type": "fragment"
    }
   },
   "source": [
    "- 1 year loans have the lowest history of defaulting with reeasonable returns peaking at about 10%\n",
    "\n",
    "- 3 year loans have the widest range of expected returns, with more extreme rates seeming to have lower defaults historically. \n",
    "\n",
    "- 5 year loans have higher returns on average than 1 year but at a much higher risk of default historically"
   ]
  },
  {
   "cell_type": "markdown",
   "metadata": {
    "slideshow": {
     "slide_type": "slide"
    }
   },
   "source": [
    "### <font color=#e65f00>How does Risk Vary with Return?</font>"
   ]
  },
  {
   "cell_type": "code",
   "execution_count": 46,
   "metadata": {
    "scrolled": false,
    "slideshow": {
     "slide_type": "fragment"
    }
   },
   "outputs": [
    {
     "data": {
      "image/png": "[encoded data removed]",
      "text/plain": [
       "<matplotlib.figure.Figure at 0x130ccb50>"
      ]
     },
     "metadata": {},
     "output_type": "display_data"
    }
   ],
   "source": [
    "g = sns.FacetGrid(data = post_july, hue = 'ProsperRating', hue_order = ['HR','E','D','C','B','A','AA'], size = 5, aspect = 1.5, palette=\"Spectral\")\n",
    "g.map(sns.regplot,\"BorrowerAPR\", \"EstimatedReturn\", fit_reg = False);\n",
    "plt.legend(loc=1, fontsize = 9)\n",
    "plt.title(\"Rate of Return Vs Borrow Rate according to Credit Rating\");"
   ]
  },
  {
   "cell_type": "markdown",
   "metadata": {
    "slideshow": {
     "slide_type": "fragment"
    }
   },
   "source": [
    "Since Borrowing rates are determined according to the credit rating assigned, we can see here how the risk is dispersed amongst the expected returns. In particular, it would appear as though an investor will have to tread very lightly with Borrowing APR's over 20% as their is significantly larger chance of losing significant portions of their investment."
   ]
  }
 ],
 "metadata": {
  "celltoolbar": "Slideshow",
  "kernelspec": {
   "display_name": "Python [conda env:Anaconda3]",
   "language": "python",
   "name": "conda-env-Anaconda3-py"
  },
  "language_info": {
   "codemirror_mode": {
    "name": "ipython",
    "version": 3
   },
   "file_extension": ".py",
   "mimetype": "text/x-python",
   "name": "python",
   "nbconvert_exporter": "python",
   "pygments_lexer": "ipython3",
   "version": "3.6.3"
  }
 },
 "nbformat": 4,
 "nbformat_minor": 2
}
